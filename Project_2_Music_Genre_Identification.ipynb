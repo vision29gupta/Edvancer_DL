{
  "nbformat": 4,
  "nbformat_minor": 0,
  "metadata": {
    "colab": {
      "name": "Project 2  Music Genre Identification.ipynb",
      "provenance": [],
      "collapsed_sections": []
    },
    "kernelspec": {
      "name": "python3",
      "display_name": "Python 3"
    },
    "accelerator": "GPU"
  },
  "cells": [
    {
      "cell_type": "code",
      "metadata": {
        "id": "C5mzDjBwzAPv",
        "colab_type": "code",
        "colab": {
          "base_uri": "https://localhost:8080/",
          "height": 74
        },
        "outputId": "51f36f9c-1fa8-4a7f-afef-e81cfb40fb52"
      },
      "source": [
        "import numpy as np\n",
        "import pandas as pd\n",
        "import matplotlib.pyplot as plt\n",
        "%matplotlib inline\n",
        "import seaborn as sns\n",
        "from sklearn.model_selection import train_test_split\n",
        "from sklearn.preprocessing import LabelEncoder\n",
        "import warnings\n",
        "warnings.filterwarnings(\"ignore\")"
      ],
      "execution_count": 2,
      "outputs": [
        {
          "output_type": "stream",
          "text": [
            "/usr/local/lib/python3.6/dist-packages/statsmodels/tools/_testing.py:19: FutureWarning: pandas.util.testing is deprecated. Use the functions in the public API at pandas.testing instead.\n",
            "  import pandas.util.testing as tm\n"
          ],
          "name": "stderr"
        }
      ]
    },
    {
      "cell_type": "code",
      "metadata": {
        "id": "hXt44UgBz-xQ",
        "colab_type": "code",
        "colab": {}
      },
      "source": [
        "!tar -xvf '/content/drive/My Drive/Edvancer/Deep learning/Project 2 Music Genre Identification/genres.tar.gz'"
      ],
      "execution_count": 3,
      "outputs": []
    },
    {
      "cell_type": "code",
      "metadata": {
        "id": "2_Q8xz05RdCb",
        "colab_type": "code",
        "colab": {}
      },
      "source": [
        "#!rm -rf /content/train"
      ],
      "execution_count": null,
      "outputs": []
    },
    {
      "cell_type": "code",
      "metadata": {
        "id": "iHjUj1-3Sd0z",
        "colab_type": "code",
        "colab": {}
      },
      "source": [
        "#!rm -rf /content/test"
      ],
      "execution_count": null,
      "outputs": []
    },
    {
      "cell_type": "code",
      "metadata": {
        "id": "LslPoviv5RZ_",
        "colab_type": "code",
        "colab": {
          "base_uri": "https://localhost:8080/",
          "height": 92
        },
        "outputId": "3f5acba0-ed60-4157-a20a-f88618ffa1b7"
      },
      "source": [
        "!pip install path"
      ],
      "execution_count": 4,
      "outputs": [
        {
          "output_type": "stream",
          "text": [
            "Collecting path\n",
            "  Downloading https://files.pythonhosted.org/packages/cb/81/b9090d24e60369fd9413b92fcd87e13a37bf43dad3427d35e09915f788ac/path-15.0.0-py3-none-any.whl\n",
            "Installing collected packages: path\n",
            "Successfully installed path-15.0.0\n"
          ],
          "name": "stdout"
        }
      ]
    },
    {
      "cell_type": "code",
      "metadata": {
        "id": "2eo0ypmM3uLG",
        "colab_type": "code",
        "colab": {}
      },
      "source": [
        "from tensorflow.keras import layers\n",
        "from tensorflow.keras import models\n",
        "from tensorflow.keras.layers import LeakyReLU\n",
        "from tensorflow.keras.optimizers import Adam\n",
        "import tensorflow.keras.backend as K\n",
        "import librosa\n",
        "import librosa.display\n",
        "import pylab\n",
        "import matplotlib.pyplot as plt\n",
        "from matplotlib import figure\n",
        "import gc\n",
        "from path import Path"
      ],
      "execution_count": 5,
      "outputs": []
    },
    {
      "cell_type": "code",
      "metadata": {
        "id": "eFC-3Luy0MuH",
        "colab_type": "code",
        "colab": {}
      },
      "source": [
        "import os\n",
        "os.mkdir('train')\n",
        "os.mkdir('test')"
      ],
      "execution_count": 6,
      "outputs": []
    },
    {
      "cell_type": "code",
      "metadata": {
        "id": "o7UgedEm3X-l",
        "colab_type": "code",
        "colab": {}
      },
      "source": [
        "def create_spectrogram(filename,name):\n",
        "    plt.interactive(False)\n",
        "    clip, sample_rate = librosa.load(filename, sr=None)\n",
        "    fig = plt.figure(figsize=[0.72,0.72])\n",
        "    ax = fig.add_subplot(111)\n",
        "    ax.axes.get_xaxis().set_visible(False)\n",
        "    ax.axes.get_yaxis().set_visible(False)\n",
        "    ax.set_frame_on(False)\n",
        "    S = librosa.feature.melspectrogram(y=clip, sr=sample_rate)\n",
        "    librosa.display.specshow(librosa.power_to_db(S, ref=np.max))\n",
        "    filename  = '/content/train/' + name + '.jpg'\n",
        "    plt.savefig(filename, dpi=400, bbox_inches='tight',pad_inches=0)\n",
        "    plt.close()    \n",
        "    fig.clf()\n",
        "    plt.close(fig)\n",
        "    plt.close('all')\n",
        "    del filename,name,clip,sample_rate,fig,ax,S"
      ],
      "execution_count": 7,
      "outputs": []
    },
    {
      "cell_type": "code",
      "metadata": {
        "id": "MqDyoJx53X9A",
        "colab_type": "code",
        "colab": {
          "base_uri": "https://localhost:8080/",
          "height": 204
        },
        "outputId": "76c370a5-8e1e-4fb9-9ba5-328105d097bb"
      },
      "source": [
        "from glob import glob\n",
        "glob('./genres/*')"
      ],
      "execution_count": 8,
      "outputs": [
        {
          "output_type": "execute_result",
          "data": {
            "text/plain": [
              "['./genres/reggae',\n",
              " './genres/country',\n",
              " './genres/pop',\n",
              " './genres/rock',\n",
              " './genres/metal',\n",
              " './genres/disco',\n",
              " './genres/hiphop',\n",
              " './genres/classical',\n",
              " './genres/jazz',\n",
              " './genres/blues']"
            ]
          },
          "metadata": {
            "tags": []
          },
          "execution_count": 8
        }
      ]
    },
    {
      "cell_type": "code",
      "metadata": {
        "id": "Nk05c3Pg3X7g",
        "colab_type": "code",
        "colab": {
          "base_uri": "https://localhost:8080/",
          "height": 36
        },
        "outputId": "ce8aefc1-8b5d-45a6-c185-355906f58981"
      },
      "source": [
        "file_list=sorted(list(glob(\"./genres/*/*\")))\n",
        "file_list[0]"
      ],
      "execution_count": 9,
      "outputs": [
        {
          "output_type": "execute_result",
          "data": {
            "application/vnd.google.colaboratory.intrinsic+json": {
              "type": "string"
            },
            "text/plain": [
              "'./genres/blues/blues.00000.au'"
            ]
          },
          "metadata": {
            "tags": []
          },
          "execution_count": 9
        }
      ]
    },
    {
      "cell_type": "code",
      "metadata": {
        "id": "T_HjoO71B30S",
        "colab_type": "code",
        "colab": {
          "base_uri": "https://localhost:8080/",
          "height": 36
        },
        "outputId": "c83b7159-dd1f-4c04-9085-58171947cef3"
      },
      "source": [
        "#/content/genres/blues/blues.00000.au\n",
        "file_list[1].split('/')[-1]"
      ],
      "execution_count": 10,
      "outputs": [
        {
          "output_type": "execute_result",
          "data": {
            "application/vnd.google.colaboratory.intrinsic+json": {
              "type": "string"
            },
            "text/plain": [
              "'blues.00001.au'"
            ]
          },
          "metadata": {
            "tags": []
          },
          "execution_count": 10
        }
      ]
    },
    {
      "cell_type": "code",
      "metadata": {
        "id": "sFl4FJUq3X44",
        "colab_type": "code",
        "colab": {
          "base_uri": "https://localhost:8080/",
          "height": 56
        },
        "outputId": "6dc30dc9-62e4-4889-89f6-129711098974"
      },
      "source": [
        "for i,file in enumerate(file_list):\n",
        "    print(i,end=' ')\n",
        "    filename,name = file,file.split('/')[-1]\n",
        "    create_spectrogram(filename,name)"
      ],
      "execution_count": 11,
      "outputs": [
        {
          "output_type": "stream",
          "text": [
            "0 1 2 3 4 5 6 7 8 9 10 11 12 13 14 15 16 17 18 19 20 21 22 23 24 25 26 27 28 29 30 31 32 33 34 35 36 37 38 39 40 41 42 43 44 45 46 47 48 49 50 51 52 53 54 55 56 57 58 59 60 61 62 63 64 65 66 67 68 69 70 71 72 73 74 75 76 77 78 79 80 81 82 83 84 85 86 87 88 89 90 91 92 93 94 95 96 97 98 99 100 101 102 103 104 105 106 107 108 109 110 111 112 113 114 115 116 117 118 119 120 121 122 123 124 125 126 127 128 129 130 131 132 133 134 135 136 137 138 139 140 141 142 143 144 145 146 147 148 149 150 151 152 153 154 155 156 157 158 159 160 161 162 163 164 165 166 167 168 169 170 171 172 173 174 175 176 177 178 179 180 181 182 183 184 185 186 187 188 189 190 191 192 193 194 195 196 197 198 199 200 201 202 203 204 205 206 207 208 209 210 211 212 213 214 215 216 217 218 219 220 221 222 223 224 225 226 227 228 229 230 231 232 233 234 235 236 237 238 239 240 241 242 243 244 245 246 247 248 249 250 251 252 253 254 255 256 257 258 259 260 261 262 263 264 265 266 267 268 269 270 271 272 273 274 275 276 277 278 279 280 281 282 283 284 285 286 287 288 289 290 291 292 293 294 295 296 297 298 299 300 301 302 303 304 305 306 307 308 309 310 311 312 313 314 315 316 317 318 319 320 321 322 323 324 325 326 327 328 329 330 331 332 333 334 335 336 337 338 339 340 341 342 343 344 345 346 347 348 349 350 351 352 353 354 355 356 357 358 359 360 361 362 363 364 365 366 367 368 369 370 371 372 373 374 375 376 377 378 379 380 381 382 383 384 385 386 387 388 389 390 391 392 393 394 395 396 397 398 399 400 401 402 403 404 405 406 407 408 409 410 411 412 413 414 415 416 417 418 419 420 421 422 423 424 425 426 427 428 429 430 431 432 433 434 435 436 437 438 439 440 441 442 443 444 445 446 447 448 449 450 451 452 453 454 455 456 457 458 459 460 461 462 463 464 465 466 467 468 469 470 471 472 473 474 475 476 477 478 479 480 481 482 483 484 485 486 487 488 489 490 491 492 493 494 495 496 497 498 499 500 501 502 503 504 505 506 507 508 509 510 511 512 513 514 515 516 517 518 519 520 521 522 523 524 525 526 527 528 529 530 531 532 533 534 535 536 537 538 539 540 541 542 543 544 545 546 547 548 549 550 551 552 553 554 555 556 557 558 559 560 561 562 563 564 565 566 567 568 569 570 571 572 573 574 575 576 577 578 579 580 581 582 583 584 585 586 587 588 589 590 591 592 593 594 595 596 597 598 599 600 601 602 603 604 605 606 607 608 609 610 611 612 613 614 615 616 617 618 619 620 621 622 623 624 625 626 627 628 629 630 631 632 633 634 635 636 637 638 639 640 641 642 643 644 645 646 647 648 649 650 651 652 653 654 655 656 657 658 659 660 661 662 663 664 665 666 667 668 669 670 671 672 673 674 675 676 677 678 679 680 681 682 683 684 685 686 687 688 689 690 691 692 693 694 695 696 697 698 699 700 701 702 703 704 705 706 707 708 709 710 711 712 713 714 715 716 717 718 719 720 721 722 723 724 725 726 727 728 729 730 731 732 733 734 735 736 737 738 739 740 741 742 743 744 745 746 747 748 749 750 751 752 753 754 755 756 757 758 759 760 761 762 763 764 765 766 767 768 769 770 771 772 773 774 775 776 777 778 779 780 781 782 783 784 785 786 787 788 789 790 791 792 793 794 795 796 797 798 799 800 801 802 803 804 805 806 807 808 809 810 811 812 813 814 815 816 817 818 819 820 821 822 823 824 825 826 827 828 829 830 831 832 833 834 835 836 837 838 839 840 841 842 843 844 845 846 847 848 849 850 851 852 853 854 855 856 857 858 859 860 861 862 863 864 865 866 867 868 869 870 871 872 873 874 875 876 877 878 879 880 881 882 883 884 885 886 887 888 889 890 891 892 893 894 895 896 897 898 899 900 901 902 903 904 905 906 907 908 909 910 911 912 913 914 915 916 917 918 919 920 921 922 923 924 925 926 927 928 929 930 931 932 933 934 935 936 937 938 939 940 941 942 943 944 945 946 947 948 949 950 951 952 953 954 955 956 957 958 959 960 961 962 963 964 965 966 967 968 969 970 971 972 973 974 975 976 977 978 979 980 981 982 983 984 985 986 987 988 989 990 991 992 993 994 995 996 997 998 999 "
          ],
          "name": "stdout"
        }
      ]
    },
    {
      "cell_type": "code",
      "metadata": {
        "id": "G8Ibt5PM7UZq",
        "colab_type": "code",
        "colab": {
          "base_uri": "https://localhost:8080/",
          "height": 1000
        },
        "outputId": "fe1627f4-0f16-4689-8374-032836a3dc27"
      },
      "source": [
        "file_names=[x.split('/')[-1] for x in file_list]\n",
        "file_names"
      ],
      "execution_count": 12,
      "outputs": [
        {
          "output_type": "execute_result",
          "data": {
            "text/plain": [
              "['blues.00000.au',\n",
              " 'blues.00001.au',\n",
              " 'blues.00002.au',\n",
              " 'blues.00003.au',\n",
              " 'blues.00004.au',\n",
              " 'blues.00005.au',\n",
              " 'blues.00006.au',\n",
              " 'blues.00007.au',\n",
              " 'blues.00008.au',\n",
              " 'blues.00009.au',\n",
              " 'blues.00010.au',\n",
              " 'blues.00011.au',\n",
              " 'blues.00012.au',\n",
              " 'blues.00013.au',\n",
              " 'blues.00014.au',\n",
              " 'blues.00015.au',\n",
              " 'blues.00016.au',\n",
              " 'blues.00017.au',\n",
              " 'blues.00018.au',\n",
              " 'blues.00019.au',\n",
              " 'blues.00020.au',\n",
              " 'blues.00021.au',\n",
              " 'blues.00022.au',\n",
              " 'blues.00023.au',\n",
              " 'blues.00024.au',\n",
              " 'blues.00025.au',\n",
              " 'blues.00026.au',\n",
              " 'blues.00027.au',\n",
              " 'blues.00028.au',\n",
              " 'blues.00029.au',\n",
              " 'blues.00030.au',\n",
              " 'blues.00031.au',\n",
              " 'blues.00032.au',\n",
              " 'blues.00033.au',\n",
              " 'blues.00034.au',\n",
              " 'blues.00035.au',\n",
              " 'blues.00036.au',\n",
              " 'blues.00037.au',\n",
              " 'blues.00038.au',\n",
              " 'blues.00039.au',\n",
              " 'blues.00040.au',\n",
              " 'blues.00041.au',\n",
              " 'blues.00042.au',\n",
              " 'blues.00043.au',\n",
              " 'blues.00044.au',\n",
              " 'blues.00045.au',\n",
              " 'blues.00046.au',\n",
              " 'blues.00047.au',\n",
              " 'blues.00048.au',\n",
              " 'blues.00049.au',\n",
              " 'blues.00050.au',\n",
              " 'blues.00051.au',\n",
              " 'blues.00052.au',\n",
              " 'blues.00053.au',\n",
              " 'blues.00054.au',\n",
              " 'blues.00055.au',\n",
              " 'blues.00056.au',\n",
              " 'blues.00057.au',\n",
              " 'blues.00058.au',\n",
              " 'blues.00059.au',\n",
              " 'blues.00060.au',\n",
              " 'blues.00061.au',\n",
              " 'blues.00062.au',\n",
              " 'blues.00063.au',\n",
              " 'blues.00064.au',\n",
              " 'blues.00065.au',\n",
              " 'blues.00066.au',\n",
              " 'blues.00067.au',\n",
              " 'blues.00068.au',\n",
              " 'blues.00069.au',\n",
              " 'blues.00070.au',\n",
              " 'blues.00071.au',\n",
              " 'blues.00072.au',\n",
              " 'blues.00073.au',\n",
              " 'blues.00074.au',\n",
              " 'blues.00075.au',\n",
              " 'blues.00076.au',\n",
              " 'blues.00077.au',\n",
              " 'blues.00078.au',\n",
              " 'blues.00079.au',\n",
              " 'blues.00080.au',\n",
              " 'blues.00081.au',\n",
              " 'blues.00082.au',\n",
              " 'blues.00083.au',\n",
              " 'blues.00084.au',\n",
              " 'blues.00085.au',\n",
              " 'blues.00086.au',\n",
              " 'blues.00087.au',\n",
              " 'blues.00088.au',\n",
              " 'blues.00089.au',\n",
              " 'blues.00090.au',\n",
              " 'blues.00091.au',\n",
              " 'blues.00092.au',\n",
              " 'blues.00093.au',\n",
              " 'blues.00094.au',\n",
              " 'blues.00095.au',\n",
              " 'blues.00096.au',\n",
              " 'blues.00097.au',\n",
              " 'blues.00098.au',\n",
              " 'blues.00099.au',\n",
              " 'classical.00000.au',\n",
              " 'classical.00001.au',\n",
              " 'classical.00002.au',\n",
              " 'classical.00003.au',\n",
              " 'classical.00004.au',\n",
              " 'classical.00005.au',\n",
              " 'classical.00006.au',\n",
              " 'classical.00007.au',\n",
              " 'classical.00008.au',\n",
              " 'classical.00009.au',\n",
              " 'classical.00010.au',\n",
              " 'classical.00011.au',\n",
              " 'classical.00012.au',\n",
              " 'classical.00013.au',\n",
              " 'classical.00014.au',\n",
              " 'classical.00015.au',\n",
              " 'classical.00016.au',\n",
              " 'classical.00017.au',\n",
              " 'classical.00018.au',\n",
              " 'classical.00019.au',\n",
              " 'classical.00020.au',\n",
              " 'classical.00021.au',\n",
              " 'classical.00022.au',\n",
              " 'classical.00023.au',\n",
              " 'classical.00024.au',\n",
              " 'classical.00025.au',\n",
              " 'classical.00026.au',\n",
              " 'classical.00027.au',\n",
              " 'classical.00028.au',\n",
              " 'classical.00029.au',\n",
              " 'classical.00030.au',\n",
              " 'classical.00031.au',\n",
              " 'classical.00032.au',\n",
              " 'classical.00033.au',\n",
              " 'classical.00034.au',\n",
              " 'classical.00035.au',\n",
              " 'classical.00036.au',\n",
              " 'classical.00037.au',\n",
              " 'classical.00038.au',\n",
              " 'classical.00039.au',\n",
              " 'classical.00040.au',\n",
              " 'classical.00041.au',\n",
              " 'classical.00042.au',\n",
              " 'classical.00043.au',\n",
              " 'classical.00044.au',\n",
              " 'classical.00045.au',\n",
              " 'classical.00046.au',\n",
              " 'classical.00047.au',\n",
              " 'classical.00048.au',\n",
              " 'classical.00049.au',\n",
              " 'classical.00050.au',\n",
              " 'classical.00051.au',\n",
              " 'classical.00052.au',\n",
              " 'classical.00053.au',\n",
              " 'classical.00054.au',\n",
              " 'classical.00055.au',\n",
              " 'classical.00056.au',\n",
              " 'classical.00057.au',\n",
              " 'classical.00058.au',\n",
              " 'classical.00059.au',\n",
              " 'classical.00060.au',\n",
              " 'classical.00061.au',\n",
              " 'classical.00062.au',\n",
              " 'classical.00063.au',\n",
              " 'classical.00064.au',\n",
              " 'classical.00065.au',\n",
              " 'classical.00066.au',\n",
              " 'classical.00067.au',\n",
              " 'classical.00068.au',\n",
              " 'classical.00069.au',\n",
              " 'classical.00070.au',\n",
              " 'classical.00071.au',\n",
              " 'classical.00072.au',\n",
              " 'classical.00073.au',\n",
              " 'classical.00074.au',\n",
              " 'classical.00075.au',\n",
              " 'classical.00076.au',\n",
              " 'classical.00077.au',\n",
              " 'classical.00078.au',\n",
              " 'classical.00079.au',\n",
              " 'classical.00080.au',\n",
              " 'classical.00081.au',\n",
              " 'classical.00082.au',\n",
              " 'classical.00083.au',\n",
              " 'classical.00084.au',\n",
              " 'classical.00085.au',\n",
              " 'classical.00086.au',\n",
              " 'classical.00087.au',\n",
              " 'classical.00088.au',\n",
              " 'classical.00089.au',\n",
              " 'classical.00090.au',\n",
              " 'classical.00091.au',\n",
              " 'classical.00092.au',\n",
              " 'classical.00093.au',\n",
              " 'classical.00094.au',\n",
              " 'classical.00095.au',\n",
              " 'classical.00096.au',\n",
              " 'classical.00097.au',\n",
              " 'classical.00098.au',\n",
              " 'classical.00099.au',\n",
              " 'country.00000.au',\n",
              " 'country.00001.au',\n",
              " 'country.00002.au',\n",
              " 'country.00003.au',\n",
              " 'country.00004.au',\n",
              " 'country.00005.au',\n",
              " 'country.00006.au',\n",
              " 'country.00007.au',\n",
              " 'country.00008.au',\n",
              " 'country.00009.au',\n",
              " 'country.00010.au',\n",
              " 'country.00011.au',\n",
              " 'country.00012.au',\n",
              " 'country.00013.au',\n",
              " 'country.00014.au',\n",
              " 'country.00015.au',\n",
              " 'country.00016.au',\n",
              " 'country.00017.au',\n",
              " 'country.00018.au',\n",
              " 'country.00019.au',\n",
              " 'country.00020.au',\n",
              " 'country.00021.au',\n",
              " 'country.00022.au',\n",
              " 'country.00023.au',\n",
              " 'country.00024.au',\n",
              " 'country.00025.au',\n",
              " 'country.00026.au',\n",
              " 'country.00027.au',\n",
              " 'country.00028.au',\n",
              " 'country.00029.au',\n",
              " 'country.00030.au',\n",
              " 'country.00031.au',\n",
              " 'country.00032.au',\n",
              " 'country.00033.au',\n",
              " 'country.00034.au',\n",
              " 'country.00035.au',\n",
              " 'country.00036.au',\n",
              " 'country.00037.au',\n",
              " 'country.00038.au',\n",
              " 'country.00039.au',\n",
              " 'country.00040.au',\n",
              " 'country.00041.au',\n",
              " 'country.00042.au',\n",
              " 'country.00043.au',\n",
              " 'country.00044.au',\n",
              " 'country.00045.au',\n",
              " 'country.00046.au',\n",
              " 'country.00047.au',\n",
              " 'country.00048.au',\n",
              " 'country.00049.au',\n",
              " 'country.00050.au',\n",
              " 'country.00051.au',\n",
              " 'country.00052.au',\n",
              " 'country.00053.au',\n",
              " 'country.00054.au',\n",
              " 'country.00055.au',\n",
              " 'country.00056.au',\n",
              " 'country.00057.au',\n",
              " 'country.00058.au',\n",
              " 'country.00059.au',\n",
              " 'country.00060.au',\n",
              " 'country.00061.au',\n",
              " 'country.00062.au',\n",
              " 'country.00063.au',\n",
              " 'country.00064.au',\n",
              " 'country.00065.au',\n",
              " 'country.00066.au',\n",
              " 'country.00067.au',\n",
              " 'country.00068.au',\n",
              " 'country.00069.au',\n",
              " 'country.00070.au',\n",
              " 'country.00071.au',\n",
              " 'country.00072.au',\n",
              " 'country.00073.au',\n",
              " 'country.00074.au',\n",
              " 'country.00075.au',\n",
              " 'country.00076.au',\n",
              " 'country.00077.au',\n",
              " 'country.00078.au',\n",
              " 'country.00079.au',\n",
              " 'country.00080.au',\n",
              " 'country.00081.au',\n",
              " 'country.00082.au',\n",
              " 'country.00083.au',\n",
              " 'country.00084.au',\n",
              " 'country.00085.au',\n",
              " 'country.00086.au',\n",
              " 'country.00087.au',\n",
              " 'country.00088.au',\n",
              " 'country.00089.au',\n",
              " 'country.00090.au',\n",
              " 'country.00091.au',\n",
              " 'country.00092.au',\n",
              " 'country.00093.au',\n",
              " 'country.00094.au',\n",
              " 'country.00095.au',\n",
              " 'country.00096.au',\n",
              " 'country.00097.au',\n",
              " 'country.00098.au',\n",
              " 'country.00099.au',\n",
              " 'disco.00000.au',\n",
              " 'disco.00001.au',\n",
              " 'disco.00002.au',\n",
              " 'disco.00003.au',\n",
              " 'disco.00004.au',\n",
              " 'disco.00005.au',\n",
              " 'disco.00006.au',\n",
              " 'disco.00007.au',\n",
              " 'disco.00008.au',\n",
              " 'disco.00009.au',\n",
              " 'disco.00010.au',\n",
              " 'disco.00011.au',\n",
              " 'disco.00012.au',\n",
              " 'disco.00013.au',\n",
              " 'disco.00014.au',\n",
              " 'disco.00015.au',\n",
              " 'disco.00016.au',\n",
              " 'disco.00017.au',\n",
              " 'disco.00018.au',\n",
              " 'disco.00019.au',\n",
              " 'disco.00020.au',\n",
              " 'disco.00021.au',\n",
              " 'disco.00022.au',\n",
              " 'disco.00023.au',\n",
              " 'disco.00024.au',\n",
              " 'disco.00025.au',\n",
              " 'disco.00026.au',\n",
              " 'disco.00027.au',\n",
              " 'disco.00028.au',\n",
              " 'disco.00029.au',\n",
              " 'disco.00030.au',\n",
              " 'disco.00031.au',\n",
              " 'disco.00032.au',\n",
              " 'disco.00033.au',\n",
              " 'disco.00034.au',\n",
              " 'disco.00035.au',\n",
              " 'disco.00036.au',\n",
              " 'disco.00037.au',\n",
              " 'disco.00038.au',\n",
              " 'disco.00039.au',\n",
              " 'disco.00040.au',\n",
              " 'disco.00041.au',\n",
              " 'disco.00042.au',\n",
              " 'disco.00043.au',\n",
              " 'disco.00044.au',\n",
              " 'disco.00045.au',\n",
              " 'disco.00046.au',\n",
              " 'disco.00047.au',\n",
              " 'disco.00048.au',\n",
              " 'disco.00049.au',\n",
              " 'disco.00050.au',\n",
              " 'disco.00051.au',\n",
              " 'disco.00052.au',\n",
              " 'disco.00053.au',\n",
              " 'disco.00054.au',\n",
              " 'disco.00055.au',\n",
              " 'disco.00056.au',\n",
              " 'disco.00057.au',\n",
              " 'disco.00058.au',\n",
              " 'disco.00059.au',\n",
              " 'disco.00060.au',\n",
              " 'disco.00061.au',\n",
              " 'disco.00062.au',\n",
              " 'disco.00063.au',\n",
              " 'disco.00064.au',\n",
              " 'disco.00065.au',\n",
              " 'disco.00066.au',\n",
              " 'disco.00067.au',\n",
              " 'disco.00068.au',\n",
              " 'disco.00069.au',\n",
              " 'disco.00070.au',\n",
              " 'disco.00071.au',\n",
              " 'disco.00072.au',\n",
              " 'disco.00073.au',\n",
              " 'disco.00074.au',\n",
              " 'disco.00075.au',\n",
              " 'disco.00076.au',\n",
              " 'disco.00077.au',\n",
              " 'disco.00078.au',\n",
              " 'disco.00079.au',\n",
              " 'disco.00080.au',\n",
              " 'disco.00081.au',\n",
              " 'disco.00082.au',\n",
              " 'disco.00083.au',\n",
              " 'disco.00084.au',\n",
              " 'disco.00085.au',\n",
              " 'disco.00086.au',\n",
              " 'disco.00087.au',\n",
              " 'disco.00088.au',\n",
              " 'disco.00089.au',\n",
              " 'disco.00090.au',\n",
              " 'disco.00091.au',\n",
              " 'disco.00092.au',\n",
              " 'disco.00093.au',\n",
              " 'disco.00094.au',\n",
              " 'disco.00095.au',\n",
              " 'disco.00096.au',\n",
              " 'disco.00097.au',\n",
              " 'disco.00098.au',\n",
              " 'disco.00099.au',\n",
              " 'hiphop.00000.au',\n",
              " 'hiphop.00001.au',\n",
              " 'hiphop.00002.au',\n",
              " 'hiphop.00003.au',\n",
              " 'hiphop.00004.au',\n",
              " 'hiphop.00005.au',\n",
              " 'hiphop.00006.au',\n",
              " 'hiphop.00007.au',\n",
              " 'hiphop.00008.au',\n",
              " 'hiphop.00009.au',\n",
              " 'hiphop.00010.au',\n",
              " 'hiphop.00011.au',\n",
              " 'hiphop.00012.au',\n",
              " 'hiphop.00013.au',\n",
              " 'hiphop.00014.au',\n",
              " 'hiphop.00015.au',\n",
              " 'hiphop.00016.au',\n",
              " 'hiphop.00017.au',\n",
              " 'hiphop.00018.au',\n",
              " 'hiphop.00019.au',\n",
              " 'hiphop.00020.au',\n",
              " 'hiphop.00021.au',\n",
              " 'hiphop.00022.au',\n",
              " 'hiphop.00023.au',\n",
              " 'hiphop.00024.au',\n",
              " 'hiphop.00025.au',\n",
              " 'hiphop.00026.au',\n",
              " 'hiphop.00027.au',\n",
              " 'hiphop.00028.au',\n",
              " 'hiphop.00029.au',\n",
              " 'hiphop.00030.au',\n",
              " 'hiphop.00031.au',\n",
              " 'hiphop.00032.au',\n",
              " 'hiphop.00033.au',\n",
              " 'hiphop.00034.au',\n",
              " 'hiphop.00035.au',\n",
              " 'hiphop.00036.au',\n",
              " 'hiphop.00037.au',\n",
              " 'hiphop.00038.au',\n",
              " 'hiphop.00039.au',\n",
              " 'hiphop.00040.au',\n",
              " 'hiphop.00041.au',\n",
              " 'hiphop.00042.au',\n",
              " 'hiphop.00043.au',\n",
              " 'hiphop.00044.au',\n",
              " 'hiphop.00045.au',\n",
              " 'hiphop.00046.au',\n",
              " 'hiphop.00047.au',\n",
              " 'hiphop.00048.au',\n",
              " 'hiphop.00049.au',\n",
              " 'hiphop.00050.au',\n",
              " 'hiphop.00051.au',\n",
              " 'hiphop.00052.au',\n",
              " 'hiphop.00053.au',\n",
              " 'hiphop.00054.au',\n",
              " 'hiphop.00055.au',\n",
              " 'hiphop.00056.au',\n",
              " 'hiphop.00057.au',\n",
              " 'hiphop.00058.au',\n",
              " 'hiphop.00059.au',\n",
              " 'hiphop.00060.au',\n",
              " 'hiphop.00061.au',\n",
              " 'hiphop.00062.au',\n",
              " 'hiphop.00063.au',\n",
              " 'hiphop.00064.au',\n",
              " 'hiphop.00065.au',\n",
              " 'hiphop.00066.au',\n",
              " 'hiphop.00067.au',\n",
              " 'hiphop.00068.au',\n",
              " 'hiphop.00069.au',\n",
              " 'hiphop.00070.au',\n",
              " 'hiphop.00071.au',\n",
              " 'hiphop.00072.au',\n",
              " 'hiphop.00073.au',\n",
              " 'hiphop.00074.au',\n",
              " 'hiphop.00075.au',\n",
              " 'hiphop.00076.au',\n",
              " 'hiphop.00077.au',\n",
              " 'hiphop.00078.au',\n",
              " 'hiphop.00079.au',\n",
              " 'hiphop.00080.au',\n",
              " 'hiphop.00081.au',\n",
              " 'hiphop.00082.au',\n",
              " 'hiphop.00083.au',\n",
              " 'hiphop.00084.au',\n",
              " 'hiphop.00085.au',\n",
              " 'hiphop.00086.au',\n",
              " 'hiphop.00087.au',\n",
              " 'hiphop.00088.au',\n",
              " 'hiphop.00089.au',\n",
              " 'hiphop.00090.au',\n",
              " 'hiphop.00091.au',\n",
              " 'hiphop.00092.au',\n",
              " 'hiphop.00093.au',\n",
              " 'hiphop.00094.au',\n",
              " 'hiphop.00095.au',\n",
              " 'hiphop.00096.au',\n",
              " 'hiphop.00097.au',\n",
              " 'hiphop.00098.au',\n",
              " 'hiphop.00099.au',\n",
              " 'jazz.00000.au',\n",
              " 'jazz.00001.au',\n",
              " 'jazz.00002.au',\n",
              " 'jazz.00003.au',\n",
              " 'jazz.00004.au',\n",
              " 'jazz.00005.au',\n",
              " 'jazz.00006.au',\n",
              " 'jazz.00007.au',\n",
              " 'jazz.00008.au',\n",
              " 'jazz.00009.au',\n",
              " 'jazz.00010.au',\n",
              " 'jazz.00011.au',\n",
              " 'jazz.00012.au',\n",
              " 'jazz.00013.au',\n",
              " 'jazz.00014.au',\n",
              " 'jazz.00015.au',\n",
              " 'jazz.00016.au',\n",
              " 'jazz.00017.au',\n",
              " 'jazz.00018.au',\n",
              " 'jazz.00019.au',\n",
              " 'jazz.00020.au',\n",
              " 'jazz.00021.au',\n",
              " 'jazz.00022.au',\n",
              " 'jazz.00023.au',\n",
              " 'jazz.00024.au',\n",
              " 'jazz.00025.au',\n",
              " 'jazz.00026.au',\n",
              " 'jazz.00027.au',\n",
              " 'jazz.00028.au',\n",
              " 'jazz.00029.au',\n",
              " 'jazz.00030.au',\n",
              " 'jazz.00031.au',\n",
              " 'jazz.00032.au',\n",
              " 'jazz.00033.au',\n",
              " 'jazz.00034.au',\n",
              " 'jazz.00035.au',\n",
              " 'jazz.00036.au',\n",
              " 'jazz.00037.au',\n",
              " 'jazz.00038.au',\n",
              " 'jazz.00039.au',\n",
              " 'jazz.00040.au',\n",
              " 'jazz.00041.au',\n",
              " 'jazz.00042.au',\n",
              " 'jazz.00043.au',\n",
              " 'jazz.00044.au',\n",
              " 'jazz.00045.au',\n",
              " 'jazz.00046.au',\n",
              " 'jazz.00047.au',\n",
              " 'jazz.00048.au',\n",
              " 'jazz.00049.au',\n",
              " 'jazz.00050.au',\n",
              " 'jazz.00051.au',\n",
              " 'jazz.00052.au',\n",
              " 'jazz.00053.au',\n",
              " 'jazz.00054.au',\n",
              " 'jazz.00055.au',\n",
              " 'jazz.00056.au',\n",
              " 'jazz.00057.au',\n",
              " 'jazz.00058.au',\n",
              " 'jazz.00059.au',\n",
              " 'jazz.00060.au',\n",
              " 'jazz.00061.au',\n",
              " 'jazz.00062.au',\n",
              " 'jazz.00063.au',\n",
              " 'jazz.00064.au',\n",
              " 'jazz.00065.au',\n",
              " 'jazz.00066.au',\n",
              " 'jazz.00067.au',\n",
              " 'jazz.00068.au',\n",
              " 'jazz.00069.au',\n",
              " 'jazz.00070.au',\n",
              " 'jazz.00071.au',\n",
              " 'jazz.00072.au',\n",
              " 'jazz.00073.au',\n",
              " 'jazz.00074.au',\n",
              " 'jazz.00075.au',\n",
              " 'jazz.00076.au',\n",
              " 'jazz.00077.au',\n",
              " 'jazz.00078.au',\n",
              " 'jazz.00079.au',\n",
              " 'jazz.00080.au',\n",
              " 'jazz.00081.au',\n",
              " 'jazz.00082.au',\n",
              " 'jazz.00083.au',\n",
              " 'jazz.00084.au',\n",
              " 'jazz.00085.au',\n",
              " 'jazz.00086.au',\n",
              " 'jazz.00087.au',\n",
              " 'jazz.00088.au',\n",
              " 'jazz.00089.au',\n",
              " 'jazz.00090.au',\n",
              " 'jazz.00091.au',\n",
              " 'jazz.00092.au',\n",
              " 'jazz.00093.au',\n",
              " 'jazz.00094.au',\n",
              " 'jazz.00095.au',\n",
              " 'jazz.00096.au',\n",
              " 'jazz.00097.au',\n",
              " 'jazz.00098.au',\n",
              " 'jazz.00099.au',\n",
              " 'metal.00000.au',\n",
              " 'metal.00001.au',\n",
              " 'metal.00002.au',\n",
              " 'metal.00003.au',\n",
              " 'metal.00004.au',\n",
              " 'metal.00005.au',\n",
              " 'metal.00006.au',\n",
              " 'metal.00007.au',\n",
              " 'metal.00008.au',\n",
              " 'metal.00009.au',\n",
              " 'metal.00010.au',\n",
              " 'metal.00011.au',\n",
              " 'metal.00012.au',\n",
              " 'metal.00013.au',\n",
              " 'metal.00014.au',\n",
              " 'metal.00015.au',\n",
              " 'metal.00016.au',\n",
              " 'metal.00017.au',\n",
              " 'metal.00018.au',\n",
              " 'metal.00019.au',\n",
              " 'metal.00020.au',\n",
              " 'metal.00021.au',\n",
              " 'metal.00022.au',\n",
              " 'metal.00023.au',\n",
              " 'metal.00024.au',\n",
              " 'metal.00025.au',\n",
              " 'metal.00026.au',\n",
              " 'metal.00027.au',\n",
              " 'metal.00028.au',\n",
              " 'metal.00029.au',\n",
              " 'metal.00030.au',\n",
              " 'metal.00031.au',\n",
              " 'metal.00032.au',\n",
              " 'metal.00033.au',\n",
              " 'metal.00034.au',\n",
              " 'metal.00035.au',\n",
              " 'metal.00036.au',\n",
              " 'metal.00037.au',\n",
              " 'metal.00038.au',\n",
              " 'metal.00039.au',\n",
              " 'metal.00040.au',\n",
              " 'metal.00041.au',\n",
              " 'metal.00042.au',\n",
              " 'metal.00043.au',\n",
              " 'metal.00044.au',\n",
              " 'metal.00045.au',\n",
              " 'metal.00046.au',\n",
              " 'metal.00047.au',\n",
              " 'metal.00048.au',\n",
              " 'metal.00049.au',\n",
              " 'metal.00050.au',\n",
              " 'metal.00051.au',\n",
              " 'metal.00052.au',\n",
              " 'metal.00053.au',\n",
              " 'metal.00054.au',\n",
              " 'metal.00055.au',\n",
              " 'metal.00056.au',\n",
              " 'metal.00057.au',\n",
              " 'metal.00058.au',\n",
              " 'metal.00059.au',\n",
              " 'metal.00060.au',\n",
              " 'metal.00061.au',\n",
              " 'metal.00062.au',\n",
              " 'metal.00063.au',\n",
              " 'metal.00064.au',\n",
              " 'metal.00065.au',\n",
              " 'metal.00066.au',\n",
              " 'metal.00067.au',\n",
              " 'metal.00068.au',\n",
              " 'metal.00069.au',\n",
              " 'metal.00070.au',\n",
              " 'metal.00071.au',\n",
              " 'metal.00072.au',\n",
              " 'metal.00073.au',\n",
              " 'metal.00074.au',\n",
              " 'metal.00075.au',\n",
              " 'metal.00076.au',\n",
              " 'metal.00077.au',\n",
              " 'metal.00078.au',\n",
              " 'metal.00079.au',\n",
              " 'metal.00080.au',\n",
              " 'metal.00081.au',\n",
              " 'metal.00082.au',\n",
              " 'metal.00083.au',\n",
              " 'metal.00084.au',\n",
              " 'metal.00085.au',\n",
              " 'metal.00086.au',\n",
              " 'metal.00087.au',\n",
              " 'metal.00088.au',\n",
              " 'metal.00089.au',\n",
              " 'metal.00090.au',\n",
              " 'metal.00091.au',\n",
              " 'metal.00092.au',\n",
              " 'metal.00093.au',\n",
              " 'metal.00094.au',\n",
              " 'metal.00095.au',\n",
              " 'metal.00096.au',\n",
              " 'metal.00097.au',\n",
              " 'metal.00098.au',\n",
              " 'metal.00099.au',\n",
              " 'pop.00000.au',\n",
              " 'pop.00001.au',\n",
              " 'pop.00002.au',\n",
              " 'pop.00003.au',\n",
              " 'pop.00004.au',\n",
              " 'pop.00005.au',\n",
              " 'pop.00006.au',\n",
              " 'pop.00007.au',\n",
              " 'pop.00008.au',\n",
              " 'pop.00009.au',\n",
              " 'pop.00010.au',\n",
              " 'pop.00011.au',\n",
              " 'pop.00012.au',\n",
              " 'pop.00013.au',\n",
              " 'pop.00014.au',\n",
              " 'pop.00015.au',\n",
              " 'pop.00016.au',\n",
              " 'pop.00017.au',\n",
              " 'pop.00018.au',\n",
              " 'pop.00019.au',\n",
              " 'pop.00020.au',\n",
              " 'pop.00021.au',\n",
              " 'pop.00022.au',\n",
              " 'pop.00023.au',\n",
              " 'pop.00024.au',\n",
              " 'pop.00025.au',\n",
              " 'pop.00026.au',\n",
              " 'pop.00027.au',\n",
              " 'pop.00028.au',\n",
              " 'pop.00029.au',\n",
              " 'pop.00030.au',\n",
              " 'pop.00031.au',\n",
              " 'pop.00032.au',\n",
              " 'pop.00033.au',\n",
              " 'pop.00034.au',\n",
              " 'pop.00035.au',\n",
              " 'pop.00036.au',\n",
              " 'pop.00037.au',\n",
              " 'pop.00038.au',\n",
              " 'pop.00039.au',\n",
              " 'pop.00040.au',\n",
              " 'pop.00041.au',\n",
              " 'pop.00042.au',\n",
              " 'pop.00043.au',\n",
              " 'pop.00044.au',\n",
              " 'pop.00045.au',\n",
              " 'pop.00046.au',\n",
              " 'pop.00047.au',\n",
              " 'pop.00048.au',\n",
              " 'pop.00049.au',\n",
              " 'pop.00050.au',\n",
              " 'pop.00051.au',\n",
              " 'pop.00052.au',\n",
              " 'pop.00053.au',\n",
              " 'pop.00054.au',\n",
              " 'pop.00055.au',\n",
              " 'pop.00056.au',\n",
              " 'pop.00057.au',\n",
              " 'pop.00058.au',\n",
              " 'pop.00059.au',\n",
              " 'pop.00060.au',\n",
              " 'pop.00061.au',\n",
              " 'pop.00062.au',\n",
              " 'pop.00063.au',\n",
              " 'pop.00064.au',\n",
              " 'pop.00065.au',\n",
              " 'pop.00066.au',\n",
              " 'pop.00067.au',\n",
              " 'pop.00068.au',\n",
              " 'pop.00069.au',\n",
              " 'pop.00070.au',\n",
              " 'pop.00071.au',\n",
              " 'pop.00072.au',\n",
              " 'pop.00073.au',\n",
              " 'pop.00074.au',\n",
              " 'pop.00075.au',\n",
              " 'pop.00076.au',\n",
              " 'pop.00077.au',\n",
              " 'pop.00078.au',\n",
              " 'pop.00079.au',\n",
              " 'pop.00080.au',\n",
              " 'pop.00081.au',\n",
              " 'pop.00082.au',\n",
              " 'pop.00083.au',\n",
              " 'pop.00084.au',\n",
              " 'pop.00085.au',\n",
              " 'pop.00086.au',\n",
              " 'pop.00087.au',\n",
              " 'pop.00088.au',\n",
              " 'pop.00089.au',\n",
              " 'pop.00090.au',\n",
              " 'pop.00091.au',\n",
              " 'pop.00092.au',\n",
              " 'pop.00093.au',\n",
              " 'pop.00094.au',\n",
              " 'pop.00095.au',\n",
              " 'pop.00096.au',\n",
              " 'pop.00097.au',\n",
              " 'pop.00098.au',\n",
              " 'pop.00099.au',\n",
              " 'reggae.00000.au',\n",
              " 'reggae.00001.au',\n",
              " 'reggae.00002.au',\n",
              " 'reggae.00003.au',\n",
              " 'reggae.00004.au',\n",
              " 'reggae.00005.au',\n",
              " 'reggae.00006.au',\n",
              " 'reggae.00007.au',\n",
              " 'reggae.00008.au',\n",
              " 'reggae.00009.au',\n",
              " 'reggae.00010.au',\n",
              " 'reggae.00011.au',\n",
              " 'reggae.00012.au',\n",
              " 'reggae.00013.au',\n",
              " 'reggae.00014.au',\n",
              " 'reggae.00015.au',\n",
              " 'reggae.00016.au',\n",
              " 'reggae.00017.au',\n",
              " 'reggae.00018.au',\n",
              " 'reggae.00019.au',\n",
              " 'reggae.00020.au',\n",
              " 'reggae.00021.au',\n",
              " 'reggae.00022.au',\n",
              " 'reggae.00023.au',\n",
              " 'reggae.00024.au',\n",
              " 'reggae.00025.au',\n",
              " 'reggae.00026.au',\n",
              " 'reggae.00027.au',\n",
              " 'reggae.00028.au',\n",
              " 'reggae.00029.au',\n",
              " 'reggae.00030.au',\n",
              " 'reggae.00031.au',\n",
              " 'reggae.00032.au',\n",
              " 'reggae.00033.au',\n",
              " 'reggae.00034.au',\n",
              " 'reggae.00035.au',\n",
              " 'reggae.00036.au',\n",
              " 'reggae.00037.au',\n",
              " 'reggae.00038.au',\n",
              " 'reggae.00039.au',\n",
              " 'reggae.00040.au',\n",
              " 'reggae.00041.au',\n",
              " 'reggae.00042.au',\n",
              " 'reggae.00043.au',\n",
              " 'reggae.00044.au',\n",
              " 'reggae.00045.au',\n",
              " 'reggae.00046.au',\n",
              " 'reggae.00047.au',\n",
              " 'reggae.00048.au',\n",
              " 'reggae.00049.au',\n",
              " 'reggae.00050.au',\n",
              " 'reggae.00051.au',\n",
              " 'reggae.00052.au',\n",
              " 'reggae.00053.au',\n",
              " 'reggae.00054.au',\n",
              " 'reggae.00055.au',\n",
              " 'reggae.00056.au',\n",
              " 'reggae.00057.au',\n",
              " 'reggae.00058.au',\n",
              " 'reggae.00059.au',\n",
              " 'reggae.00060.au',\n",
              " 'reggae.00061.au',\n",
              " 'reggae.00062.au',\n",
              " 'reggae.00063.au',\n",
              " 'reggae.00064.au',\n",
              " 'reggae.00065.au',\n",
              " 'reggae.00066.au',\n",
              " 'reggae.00067.au',\n",
              " 'reggae.00068.au',\n",
              " 'reggae.00069.au',\n",
              " 'reggae.00070.au',\n",
              " 'reggae.00071.au',\n",
              " 'reggae.00072.au',\n",
              " 'reggae.00073.au',\n",
              " 'reggae.00074.au',\n",
              " 'reggae.00075.au',\n",
              " 'reggae.00076.au',\n",
              " 'reggae.00077.au',\n",
              " 'reggae.00078.au',\n",
              " 'reggae.00079.au',\n",
              " 'reggae.00080.au',\n",
              " 'reggae.00081.au',\n",
              " 'reggae.00082.au',\n",
              " 'reggae.00083.au',\n",
              " 'reggae.00084.au',\n",
              " 'reggae.00085.au',\n",
              " 'reggae.00086.au',\n",
              " 'reggae.00087.au',\n",
              " 'reggae.00088.au',\n",
              " 'reggae.00089.au',\n",
              " 'reggae.00090.au',\n",
              " 'reggae.00091.au',\n",
              " 'reggae.00092.au',\n",
              " 'reggae.00093.au',\n",
              " 'reggae.00094.au',\n",
              " 'reggae.00095.au',\n",
              " 'reggae.00096.au',\n",
              " 'reggae.00097.au',\n",
              " 'reggae.00098.au',\n",
              " 'reggae.00099.au',\n",
              " 'rock.00000.au',\n",
              " 'rock.00001.au',\n",
              " 'rock.00002.au',\n",
              " 'rock.00003.au',\n",
              " 'rock.00004.au',\n",
              " 'rock.00005.au',\n",
              " 'rock.00006.au',\n",
              " 'rock.00007.au',\n",
              " 'rock.00008.au',\n",
              " 'rock.00009.au',\n",
              " 'rock.00010.au',\n",
              " 'rock.00011.au',\n",
              " 'rock.00012.au',\n",
              " 'rock.00013.au',\n",
              " 'rock.00014.au',\n",
              " 'rock.00015.au',\n",
              " 'rock.00016.au',\n",
              " 'rock.00017.au',\n",
              " 'rock.00018.au',\n",
              " 'rock.00019.au',\n",
              " 'rock.00020.au',\n",
              " 'rock.00021.au',\n",
              " 'rock.00022.au',\n",
              " 'rock.00023.au',\n",
              " 'rock.00024.au',\n",
              " 'rock.00025.au',\n",
              " 'rock.00026.au',\n",
              " 'rock.00027.au',\n",
              " 'rock.00028.au',\n",
              " 'rock.00029.au',\n",
              " 'rock.00030.au',\n",
              " 'rock.00031.au',\n",
              " 'rock.00032.au',\n",
              " 'rock.00033.au',\n",
              " 'rock.00034.au',\n",
              " 'rock.00035.au',\n",
              " 'rock.00036.au',\n",
              " 'rock.00037.au',\n",
              " 'rock.00038.au',\n",
              " 'rock.00039.au',\n",
              " 'rock.00040.au',\n",
              " 'rock.00041.au',\n",
              " 'rock.00042.au',\n",
              " 'rock.00043.au',\n",
              " 'rock.00044.au',\n",
              " 'rock.00045.au',\n",
              " 'rock.00046.au',\n",
              " 'rock.00047.au',\n",
              " 'rock.00048.au',\n",
              " 'rock.00049.au',\n",
              " 'rock.00050.au',\n",
              " 'rock.00051.au',\n",
              " 'rock.00052.au',\n",
              " 'rock.00053.au',\n",
              " 'rock.00054.au',\n",
              " 'rock.00055.au',\n",
              " 'rock.00056.au',\n",
              " 'rock.00057.au',\n",
              " 'rock.00058.au',\n",
              " 'rock.00059.au',\n",
              " 'rock.00060.au',\n",
              " 'rock.00061.au',\n",
              " 'rock.00062.au',\n",
              " 'rock.00063.au',\n",
              " 'rock.00064.au',\n",
              " 'rock.00065.au',\n",
              " 'rock.00066.au',\n",
              " 'rock.00067.au',\n",
              " 'rock.00068.au',\n",
              " 'rock.00069.au',\n",
              " 'rock.00070.au',\n",
              " 'rock.00071.au',\n",
              " 'rock.00072.au',\n",
              " 'rock.00073.au',\n",
              " 'rock.00074.au',\n",
              " 'rock.00075.au',\n",
              " 'rock.00076.au',\n",
              " 'rock.00077.au',\n",
              " 'rock.00078.au',\n",
              " 'rock.00079.au',\n",
              " 'rock.00080.au',\n",
              " 'rock.00081.au',\n",
              " 'rock.00082.au',\n",
              " 'rock.00083.au',\n",
              " 'rock.00084.au',\n",
              " 'rock.00085.au',\n",
              " 'rock.00086.au',\n",
              " 'rock.00087.au',\n",
              " 'rock.00088.au',\n",
              " 'rock.00089.au',\n",
              " 'rock.00090.au',\n",
              " 'rock.00091.au',\n",
              " 'rock.00092.au',\n",
              " 'rock.00093.au',\n",
              " 'rock.00094.au',\n",
              " 'rock.00095.au',\n",
              " 'rock.00096.au',\n",
              " 'rock.00097.au',\n",
              " 'rock.00098.au',\n",
              " 'rock.00099.au']"
            ]
          },
          "metadata": {
            "tags": []
          },
          "execution_count": 12
        }
      ]
    },
    {
      "cell_type": "code",
      "metadata": {
        "id": "fIkZQZjs7UYU",
        "colab_type": "code",
        "colab": {}
      },
      "source": [
        "df = pd.DataFrame({'Filename': file_names})"
      ],
      "execution_count": 13,
      "outputs": []
    },
    {
      "cell_type": "code",
      "metadata": {
        "id": "4cgeqf1m7UWE",
        "colab_type": "code",
        "colab": {
          "base_uri": "https://localhost:8080/",
          "height": 207
        },
        "outputId": "3f354831-4bf0-417e-b002-0ea08239854d"
      },
      "source": [
        "df.head()"
      ],
      "execution_count": 14,
      "outputs": [
        {
          "output_type": "execute_result",
          "data": {
            "text/html": [
              "<div>\n",
              "<style scoped>\n",
              "    .dataframe tbody tr th:only-of-type {\n",
              "        vertical-align: middle;\n",
              "    }\n",
              "\n",
              "    .dataframe tbody tr th {\n",
              "        vertical-align: top;\n",
              "    }\n",
              "\n",
              "    .dataframe thead th {\n",
              "        text-align: right;\n",
              "    }\n",
              "</style>\n",
              "<table border=\"1\" class=\"dataframe\">\n",
              "  <thead>\n",
              "    <tr style=\"text-align: right;\">\n",
              "      <th></th>\n",
              "      <th>Filename</th>\n",
              "    </tr>\n",
              "  </thead>\n",
              "  <tbody>\n",
              "    <tr>\n",
              "      <th>0</th>\n",
              "      <td>blues.00000.au</td>\n",
              "    </tr>\n",
              "    <tr>\n",
              "      <th>1</th>\n",
              "      <td>blues.00001.au</td>\n",
              "    </tr>\n",
              "    <tr>\n",
              "      <th>2</th>\n",
              "      <td>blues.00002.au</td>\n",
              "    </tr>\n",
              "    <tr>\n",
              "      <th>3</th>\n",
              "      <td>blues.00003.au</td>\n",
              "    </tr>\n",
              "    <tr>\n",
              "      <th>4</th>\n",
              "      <td>blues.00004.au</td>\n",
              "    </tr>\n",
              "  </tbody>\n",
              "</table>\n",
              "</div>"
            ],
            "text/plain": [
              "         Filename\n",
              "0  blues.00000.au\n",
              "1  blues.00001.au\n",
              "2  blues.00002.au\n",
              "3  blues.00003.au\n",
              "4  blues.00004.au"
            ]
          },
          "metadata": {
            "tags": []
          },
          "execution_count": 14
        }
      ]
    },
    {
      "cell_type": "code",
      "metadata": {
        "id": "AdZjpK6H7UUa",
        "colab_type": "code",
        "colab": {}
      },
      "source": [
        "df['Labels'] = [x.split('.')[0] for x in df.Filename]"
      ],
      "execution_count": 15,
      "outputs": []
    },
    {
      "cell_type": "code",
      "metadata": {
        "id": "fwSoT82r7UTQ",
        "colab_type": "code",
        "colab": {
          "base_uri": "https://localhost:8080/",
          "height": 222
        },
        "outputId": "d5dd28ce-3940-48e9-dcb1-27efc6a337d1"
      },
      "source": [
        "df.Labels.value_counts()"
      ],
      "execution_count": 16,
      "outputs": [
        {
          "output_type": "execute_result",
          "data": {
            "text/plain": [
              "blues        100\n",
              "disco        100\n",
              "rock         100\n",
              "classical    100\n",
              "jazz         100\n",
              "country      100\n",
              "hiphop       100\n",
              "metal        100\n",
              "reggae       100\n",
              "pop          100\n",
              "Name: Labels, dtype: int64"
            ]
          },
          "metadata": {
            "tags": []
          },
          "execution_count": 16
        }
      ]
    },
    {
      "cell_type": "code",
      "metadata": {
        "id": "u7D4zzFAJd0H",
        "colab_type": "code",
        "colab": {
          "base_uri": "https://localhost:8080/",
          "height": 222
        },
        "outputId": "9b27b99b-5d5d-4283-effb-6d876bdc6ea2"
      },
      "source": [
        "classes=list(df['Labels'].value_counts().index)\n",
        "print(len(classes))\n",
        "classes"
      ],
      "execution_count": 17,
      "outputs": [
        {
          "output_type": "stream",
          "text": [
            "10\n"
          ],
          "name": "stdout"
        },
        {
          "output_type": "execute_result",
          "data": {
            "text/plain": [
              "['blues',\n",
              " 'disco',\n",
              " 'rock',\n",
              " 'classical',\n",
              " 'jazz',\n",
              " 'country',\n",
              " 'hiphop',\n",
              " 'metal',\n",
              " 'reggae',\n",
              " 'pop']"
            ]
          },
          "metadata": {
            "tags": []
          },
          "execution_count": 17
        }
      ]
    },
    {
      "cell_type": "code",
      "metadata": {
        "id": "w2jda4zFOMIt",
        "colab_type": "code",
        "colab": {}
      },
      "source": [
        "for cl in classes:\n",
        "  os.mkdir('/content/train/'+cl)"
      ],
      "execution_count": 18,
      "outputs": []
    },
    {
      "cell_type": "code",
      "metadata": {
        "id": "fxqwHmxno3dN",
        "colab_type": "code",
        "colab": {}
      },
      "source": [
        "for cl in classes:\n",
        "  os.mkdir('/content/test/'+cl)"
      ],
      "execution_count": 19,
      "outputs": []
    },
    {
      "cell_type": "code",
      "metadata": {
        "id": "vAudIoHi7ULS",
        "colab_type": "code",
        "colab": {
          "base_uri": "https://localhost:8080/",
          "height": 204
        },
        "outputId": "c5e538e2-d94b-4ab8-f30c-8f39cfb68e78"
      },
      "source": [
        "class_dict_map={x:'/content/train/'+x+'/' for x in classes}\n",
        "class_dict_map"
      ],
      "execution_count": 20,
      "outputs": [
        {
          "output_type": "execute_result",
          "data": {
            "text/plain": [
              "{'blues': '/content/train/blues/',\n",
              " 'classical': '/content/train/classical/',\n",
              " 'country': '/content/train/country/',\n",
              " 'disco': '/content/train/disco/',\n",
              " 'hiphop': '/content/train/hiphop/',\n",
              " 'jazz': '/content/train/jazz/',\n",
              " 'metal': '/content/train/metal/',\n",
              " 'pop': '/content/train/pop/',\n",
              " 'reggae': '/content/train/reggae/',\n",
              " 'rock': '/content/train/rock/'}"
            ]
          },
          "metadata": {
            "tags": []
          },
          "execution_count": 20
        }
      ]
    },
    {
      "cell_type": "code",
      "metadata": {
        "id": "uOuQPAtRvQMi",
        "colab_type": "code",
        "colab": {
          "base_uri": "https://localhost:8080/",
          "height": 204
        },
        "outputId": "a6589177-4542-4338-d8a8-f7104dc26a85"
      },
      "source": [
        "class_dict_map1={x:'/content/test/'+x+'/' for x in classes}\n",
        "class_dict_map1"
      ],
      "execution_count": 21,
      "outputs": [
        {
          "output_type": "execute_result",
          "data": {
            "text/plain": [
              "{'blues': '/content/test/blues/',\n",
              " 'classical': '/content/test/classical/',\n",
              " 'country': '/content/test/country/',\n",
              " 'disco': '/content/test/disco/',\n",
              " 'hiphop': '/content/test/hiphop/',\n",
              " 'jazz': '/content/test/jazz/',\n",
              " 'metal': '/content/test/metal/',\n",
              " 'pop': '/content/test/pop/',\n",
              " 'reggae': '/content/test/reggae/',\n",
              " 'rock': '/content/test/rock/'}"
            ]
          },
          "metadata": {
            "tags": []
          },
          "execution_count": 21
        }
      ]
    },
    {
      "cell_type": "code",
      "metadata": {
        "id": "8fiP6OkqMGEK",
        "colab_type": "code",
        "colab": {}
      },
      "source": [
        "import shutil"
      ],
      "execution_count": 22,
      "outputs": []
    },
    {
      "cell_type": "code",
      "metadata": {
        "id": "YrgVYL29KEEq",
        "colab_type": "code",
        "colab": {}
      },
      "source": [
        "def return_class(file_name):\n",
        "  cl=df['Labels'][df['Filename']==file_name]\n",
        "  return(cl.values[0])"
      ],
      "execution_count": 23,
      "outputs": []
    },
    {
      "cell_type": "code",
      "metadata": {
        "id": "SUM2Cu0LKEC8",
        "colab_type": "code",
        "colab": {}
      },
      "source": [
        "for file in file_names:\n",
        "  name=file.split('.')[-3]+'.'+file.split('.')[-2]+'.'+file.split('.')[-1]+'.jpg'\n",
        "  if int(file.split('.')[-2])<75:\n",
        "    shutil.move('/content/train/'+name,class_dict_map[return_class(file)]+name)\n",
        "  else:\n",
        "    shutil.move('/content/train/'+name,class_dict_map1[return_class(file)]+name)"
      ],
      "execution_count": 24,
      "outputs": []
    },
    {
      "cell_type": "code",
      "metadata": {
        "id": "IYacMywGRUh3",
        "colab_type": "code",
        "colab": {}
      },
      "source": [
        "##############################"
      ],
      "execution_count": 39,
      "outputs": []
    },
    {
      "cell_type": "code",
      "metadata": {
        "id": "s0tHBeCJSeAv",
        "colab_type": "code",
        "colab": {}
      },
      "source": [
        "train_set=[]\n",
        "train_labels=[]\n",
        "for i in range(df.shape[0]):\n",
        "  if (int(df['Filename'][i].split('.')[-2])<75)==True:\n",
        "    train_set.append(df['Filename'][i])\n",
        "    train_labels.append(df['Labels'][i])"
      ],
      "execution_count": 25,
      "outputs": []
    },
    {
      "cell_type": "code",
      "metadata": {
        "id": "M-pwM5s2Ud0M",
        "colab_type": "code",
        "colab": {
          "base_uri": "https://localhost:8080/",
          "height": 36
        },
        "outputId": "0e7980e6-e7b7-4dbc-8bfe-0636ab849e3f"
      },
      "source": [
        "len(train_set), len(train_labels)"
      ],
      "execution_count": 26,
      "outputs": [
        {
          "output_type": "execute_result",
          "data": {
            "text/plain": [
              "(750, 750)"
            ]
          },
          "metadata": {
            "tags": []
          },
          "execution_count": 26
        }
      ]
    },
    {
      "cell_type": "code",
      "metadata": {
        "id": "uea1a9WtWN7u",
        "colab_type": "code",
        "colab": {}
      },
      "source": [
        "train_dataset = pd.DataFrame({'Filename':train_set, 'Labels':train_labels})"
      ],
      "execution_count": 27,
      "outputs": []
    },
    {
      "cell_type": "code",
      "metadata": {
        "id": "SAGyBsJCT3E2",
        "colab_type": "code",
        "colab": {
          "base_uri": "https://localhost:8080/",
          "height": 225
        },
        "outputId": "8c682bdf-9ac6-48b9-a266-72b6676ff412"
      },
      "source": [
        "print(train_dataset.shape)\n",
        "train_dataset.tail()"
      ],
      "execution_count": 28,
      "outputs": [
        {
          "output_type": "stream",
          "text": [
            "(750, 2)\n"
          ],
          "name": "stdout"
        },
        {
          "output_type": "execute_result",
          "data": {
            "text/html": [
              "<div>\n",
              "<style scoped>\n",
              "    .dataframe tbody tr th:only-of-type {\n",
              "        vertical-align: middle;\n",
              "    }\n",
              "\n",
              "    .dataframe tbody tr th {\n",
              "        vertical-align: top;\n",
              "    }\n",
              "\n",
              "    .dataframe thead th {\n",
              "        text-align: right;\n",
              "    }\n",
              "</style>\n",
              "<table border=\"1\" class=\"dataframe\">\n",
              "  <thead>\n",
              "    <tr style=\"text-align: right;\">\n",
              "      <th></th>\n",
              "      <th>Filename</th>\n",
              "      <th>Labels</th>\n",
              "    </tr>\n",
              "  </thead>\n",
              "  <tbody>\n",
              "    <tr>\n",
              "      <th>745</th>\n",
              "      <td>rock.00070.au</td>\n",
              "      <td>rock</td>\n",
              "    </tr>\n",
              "    <tr>\n",
              "      <th>746</th>\n",
              "      <td>rock.00071.au</td>\n",
              "      <td>rock</td>\n",
              "    </tr>\n",
              "    <tr>\n",
              "      <th>747</th>\n",
              "      <td>rock.00072.au</td>\n",
              "      <td>rock</td>\n",
              "    </tr>\n",
              "    <tr>\n",
              "      <th>748</th>\n",
              "      <td>rock.00073.au</td>\n",
              "      <td>rock</td>\n",
              "    </tr>\n",
              "    <tr>\n",
              "      <th>749</th>\n",
              "      <td>rock.00074.au</td>\n",
              "      <td>rock</td>\n",
              "    </tr>\n",
              "  </tbody>\n",
              "</table>\n",
              "</div>"
            ],
            "text/plain": [
              "          Filename Labels\n",
              "745  rock.00070.au   rock\n",
              "746  rock.00071.au   rock\n",
              "747  rock.00072.au   rock\n",
              "748  rock.00073.au   rock\n",
              "749  rock.00074.au   rock"
            ]
          },
          "metadata": {
            "tags": []
          },
          "execution_count": 28
        }
      ]
    },
    {
      "cell_type": "code",
      "metadata": {
        "id": "3P9dDsKIWsov",
        "colab_type": "code",
        "colab": {}
      },
      "source": [
        "test_dataset = df[~df['Filename'].isin(train_dataset['Filename'])].dropna()"
      ],
      "execution_count": 29,
      "outputs": []
    },
    {
      "cell_type": "code",
      "metadata": {
        "id": "tdYdnEFqXOw9",
        "colab_type": "code",
        "colab": {
          "base_uri": "https://localhost:8080/",
          "height": 225
        },
        "outputId": "86b0806f-f3a5-4938-a02b-aee1ba34a4ad"
      },
      "source": [
        "print(test_dataset.shape)\n",
        "test_dataset.tail()"
      ],
      "execution_count": 30,
      "outputs": [
        {
          "output_type": "stream",
          "text": [
            "(250, 2)\n"
          ],
          "name": "stdout"
        },
        {
          "output_type": "execute_result",
          "data": {
            "text/html": [
              "<div>\n",
              "<style scoped>\n",
              "    .dataframe tbody tr th:only-of-type {\n",
              "        vertical-align: middle;\n",
              "    }\n",
              "\n",
              "    .dataframe tbody tr th {\n",
              "        vertical-align: top;\n",
              "    }\n",
              "\n",
              "    .dataframe thead th {\n",
              "        text-align: right;\n",
              "    }\n",
              "</style>\n",
              "<table border=\"1\" class=\"dataframe\">\n",
              "  <thead>\n",
              "    <tr style=\"text-align: right;\">\n",
              "      <th></th>\n",
              "      <th>Filename</th>\n",
              "      <th>Labels</th>\n",
              "    </tr>\n",
              "  </thead>\n",
              "  <tbody>\n",
              "    <tr>\n",
              "      <th>995</th>\n",
              "      <td>rock.00095.au</td>\n",
              "      <td>rock</td>\n",
              "    </tr>\n",
              "    <tr>\n",
              "      <th>996</th>\n",
              "      <td>rock.00096.au</td>\n",
              "      <td>rock</td>\n",
              "    </tr>\n",
              "    <tr>\n",
              "      <th>997</th>\n",
              "      <td>rock.00097.au</td>\n",
              "      <td>rock</td>\n",
              "    </tr>\n",
              "    <tr>\n",
              "      <th>998</th>\n",
              "      <td>rock.00098.au</td>\n",
              "      <td>rock</td>\n",
              "    </tr>\n",
              "    <tr>\n",
              "      <th>999</th>\n",
              "      <td>rock.00099.au</td>\n",
              "      <td>rock</td>\n",
              "    </tr>\n",
              "  </tbody>\n",
              "</table>\n",
              "</div>"
            ],
            "text/plain": [
              "          Filename Labels\n",
              "995  rock.00095.au   rock\n",
              "996  rock.00096.au   rock\n",
              "997  rock.00097.au   rock\n",
              "998  rock.00098.au   rock\n",
              "999  rock.00099.au   rock"
            ]
          },
          "metadata": {
            "tags": []
          },
          "execution_count": 30
        }
      ]
    },
    {
      "cell_type": "code",
      "metadata": {
        "id": "HfPn4B-D1OrO",
        "colab_type": "code",
        "colab": {}
      },
      "source": [
        "test_dataset.reset_index(drop=True, inplace=True)"
      ],
      "execution_count": 31,
      "outputs": []
    },
    {
      "cell_type": "code",
      "metadata": {
        "id": "RQZwUI6nZUHd",
        "colab_type": "code",
        "colab": {}
      },
      "source": [
        "new_classes = list(train_dataset.Labels.unique())"
      ],
      "execution_count": 32,
      "outputs": []
    },
    {
      "cell_type": "code",
      "metadata": {
        "id": "H9VK_HWQmM1Y",
        "colab_type": "code",
        "colab": {
          "base_uri": "https://localhost:8080/",
          "height": 36
        },
        "outputId": "8445b5f3-3cd5-4240-c357-11c568d121a7"
      },
      "source": [
        "from keras.preprocessing import image\n",
        "from tqdm import tqdm\n",
        "\n",
        "train_image = []\n",
        "for i, classs in tqdm(enumerate(train_dataset['Labels'])):\n",
        "    img = image.load_img('/content/train/'+classs+'/'+train_dataset['Filename'][i]+'.jpg', target_size=(64,64,3), grayscale=False)\n",
        "    img = image.img_to_array(img)\n",
        "    img = img/255\n",
        "    train_image.append(img)\n",
        "X = np.array(train_image)"
      ],
      "execution_count": 33,
      "outputs": [
        {
          "output_type": "stream",
          "text": [
            "750it [00:01, 682.17it/s]\n"
          ],
          "name": "stderr"
        }
      ]
    },
    {
      "cell_type": "code",
      "metadata": {
        "id": "aiYO1rZUnfJL",
        "colab_type": "code",
        "colab": {
          "base_uri": "https://localhost:8080/",
          "height": 36
        },
        "outputId": "7472d287-bdcf-4e42-cab4-fd59b73b03b8"
      },
      "source": [
        "from keras.preprocessing import image\n",
        "from tqdm import tqdm\n",
        "\n",
        "test_image = []\n",
        "for i, classs in tqdm(enumerate(test_dataset['Labels'])):\n",
        "    img = image.load_img('/content/test/'+classs+'/'+test_dataset['Filename'][i]+'.jpg', target_size=(64,64,3), grayscale=False)\n",
        "    img = image.img_to_array(img)\n",
        "    img = img/255\n",
        "    test_image.append(img)\n",
        "test = np.array(test_image)"
      ],
      "execution_count": 34,
      "outputs": [
        {
          "output_type": "stream",
          "text": [
            "250it [00:00, 668.03it/s]\n"
          ],
          "name": "stderr"
        }
      ]
    },
    {
      "cell_type": "code",
      "metadata": {
        "id": "oWmUwPD3nDpq",
        "colab_type": "code",
        "colab": {
          "base_uri": "https://localhost:8080/",
          "height": 36
        },
        "outputId": "1551f05b-7324-4dc7-ac3f-8d3730dd05bb"
      },
      "source": [
        "X[75].shape, test[0].shape"
      ],
      "execution_count": 35,
      "outputs": [
        {
          "output_type": "execute_result",
          "data": {
            "text/plain": [
              "((64, 64, 3), (64, 64, 3))"
            ]
          },
          "metadata": {
            "tags": []
          },
          "execution_count": 35
        }
      ]
    },
    {
      "cell_type": "code",
      "metadata": {
        "id": "cgupqD2_oL5T",
        "colab_type": "code",
        "colab": {}
      },
      "source": [
        "from keras.utils import to_categorical\n",
        "\n",
        "le=LabelEncoder()\n",
        "\n",
        "train_dataset.Labels = le.fit_transform(train_dataset.Labels)\n",
        "y = train_dataset['Labels'].values\n",
        "y = to_categorical(y)\n",
        "\n",
        "test_dataset.Labels = le.fit_transform(test_dataset.Labels)\n",
        "y1 = test_dataset['Labels'].values"
      ],
      "execution_count": 228,
      "outputs": []
    },
    {
      "cell_type": "code",
      "metadata": {
        "id": "9i75clg32Tr8",
        "colab_type": "code",
        "colab": {}
      },
      "source": [
        "X_train, X_test, y_train, y_test = train_test_split(X, y, random_state=42, test_size=0.2)"
      ],
      "execution_count": 229,
      "outputs": []
    },
    {
      "cell_type": "code",
      "metadata": {
        "id": "wgWmarxqVT7G",
        "colab_type": "code",
        "colab": {
          "base_uri": "https://localhost:8080/",
          "height": 36
        },
        "outputId": "2e896310-58d4-4d1e-ff8c-2cf0090dde24"
      },
      "source": [
        "%tensorflow_version 2.x\n",
        "import tensorflow as tf\n",
        "device_name = tf.test.gpu_device_name()\n",
        "if device_name != '/device:GPU:0':\n",
        "  raise SystemError('GPU device not found')\n",
        "print('Found GPU at: {}'.format(device_name))"
      ],
      "execution_count": 230,
      "outputs": [
        {
          "output_type": "stream",
          "text": [
            "Found GPU at: /device:GPU:0\n"
          ],
          "name": "stdout"
        }
      ]
    },
    {
      "cell_type": "code",
      "metadata": {
        "id": "soWg2mSeKD94",
        "colab_type": "code",
        "colab": {
          "base_uri": "https://localhost:8080/",
          "height": 1000
        },
        "outputId": "a27791c0-e169-41c5-8c11-d3aae880515f"
      },
      "source": [
        "from tensorflow.keras.layers import Dense, Activation, Flatten, Dropout, BatchNormalization,Conv2D, MaxPooling2D\n",
        "from tensorflow.keras.models import Sequential, Model\n",
        "\n",
        "from tensorflow.keras import regularizers, optimizers\n",
        "\n",
        "\n",
        "model = Sequential()\n",
        "model.add(Conv2D(32, (3, 3), padding='same',input_shape=(64,64,3)))\n",
        "model.add(Activation('relu'))\n",
        "model.add(BatchNormalization())\n",
        "model.add(Conv2D(64, (3, 3)))\n",
        "model.add(Activation('relu'))\n",
        "model.add(BatchNormalization())\n",
        "model.add(MaxPooling2D(pool_size=(2, 2)))\n",
        "model.add(Dropout(0.25))\n",
        "model.add(Conv2D(64, (3, 3), padding='same'))\n",
        "model.add(Activation('relu'))\n",
        "model.add(BatchNormalization())\n",
        "model.add(Conv2D(64, (3, 3)))\n",
        "model.add(Activation('relu'))\n",
        "model.add(BatchNormalization())\n",
        "model.add(MaxPooling2D(pool_size=(2, 2)))\n",
        "model.add(Dropout(0.5))\n",
        "model.add(Conv2D(128, (3, 3), padding='same'))\n",
        "model.add(Activation('relu'))\n",
        "model.add(BatchNormalization())\n",
        "model.add(Conv2D(128, (3, 3)))\n",
        "model.add(Activation('relu'))\n",
        "model.add(BatchNormalization())\n",
        "model.add(MaxPooling2D(pool_size=(2, 2)))\n",
        "model.add(Dropout(0.5))\n",
        "model.add(Flatten())\n",
        "model.add(Dense(512))\n",
        "model.add(Activation('relu'))\n",
        "model.add(Dropout(0.5))\n",
        "model.add(Dense(10, activation='softmax'))\n",
        "model.compile(optimizers.RMSprop(lr=0.0005, decay=1e-6),loss=\"categorical_crossentropy\",metrics=[\"accuracy\"])\n",
        "model.summary()"
      ],
      "execution_count": 231,
      "outputs": [
        {
          "output_type": "stream",
          "text": [
            "Model: \"sequential_39\"\n",
            "_________________________________________________________________\n",
            "Layer (type)                 Output Shape              Param #   \n",
            "=================================================================\n",
            "conv2d_144 (Conv2D)          (None, 64, 64, 32)        896       \n",
            "_________________________________________________________________\n",
            "activation_171 (Activation)  (None, 64, 64, 32)        0         \n",
            "_________________________________________________________________\n",
            "batch_normalization_90 (Batc (None, 64, 64, 32)        128       \n",
            "_________________________________________________________________\n",
            "conv2d_145 (Conv2D)          (None, 62, 62, 64)        18496     \n",
            "_________________________________________________________________\n",
            "activation_172 (Activation)  (None, 62, 62, 64)        0         \n",
            "_________________________________________________________________\n",
            "batch_normalization_91 (Batc (None, 62, 62, 64)        256       \n",
            "_________________________________________________________________\n",
            "max_pooling2d_67 (MaxPooling (None, 31, 31, 64)        0         \n",
            "_________________________________________________________________\n",
            "dropout_107 (Dropout)        (None, 31, 31, 64)        0         \n",
            "_________________________________________________________________\n",
            "conv2d_146 (Conv2D)          (None, 31, 31, 64)        36928     \n",
            "_________________________________________________________________\n",
            "activation_173 (Activation)  (None, 31, 31, 64)        0         \n",
            "_________________________________________________________________\n",
            "batch_normalization_92 (Batc (None, 31, 31, 64)        256       \n",
            "_________________________________________________________________\n",
            "conv2d_147 (Conv2D)          (None, 29, 29, 64)        36928     \n",
            "_________________________________________________________________\n",
            "activation_174 (Activation)  (None, 29, 29, 64)        0         \n",
            "_________________________________________________________________\n",
            "batch_normalization_93 (Batc (None, 29, 29, 64)        256       \n",
            "_________________________________________________________________\n",
            "max_pooling2d_68 (MaxPooling (None, 14, 14, 64)        0         \n",
            "_________________________________________________________________\n",
            "dropout_108 (Dropout)        (None, 14, 14, 64)        0         \n",
            "_________________________________________________________________\n",
            "conv2d_148 (Conv2D)          (None, 14, 14, 128)       73856     \n",
            "_________________________________________________________________\n",
            "activation_175 (Activation)  (None, 14, 14, 128)       0         \n",
            "_________________________________________________________________\n",
            "batch_normalization_94 (Batc (None, 14, 14, 128)       512       \n",
            "_________________________________________________________________\n",
            "conv2d_149 (Conv2D)          (None, 12, 12, 128)       147584    \n",
            "_________________________________________________________________\n",
            "activation_176 (Activation)  (None, 12, 12, 128)       0         \n",
            "_________________________________________________________________\n",
            "batch_normalization_95 (Batc (None, 12, 12, 128)       512       \n",
            "_________________________________________________________________\n",
            "max_pooling2d_69 (MaxPooling (None, 6, 6, 128)         0         \n",
            "_________________________________________________________________\n",
            "dropout_109 (Dropout)        (None, 6, 6, 128)         0         \n",
            "_________________________________________________________________\n",
            "flatten_39 (Flatten)         (None, 4608)              0         \n",
            "_________________________________________________________________\n",
            "dense_75 (Dense)             (None, 512)               2359808   \n",
            "_________________________________________________________________\n",
            "activation_177 (Activation)  (None, 512)               0         \n",
            "_________________________________________________________________\n",
            "dropout_110 (Dropout)        (None, 512)               0         \n",
            "_________________________________________________________________\n",
            "dense_76 (Dense)             (None, 10)                5130      \n",
            "=================================================================\n",
            "Total params: 2,681,546\n",
            "Trainable params: 2,680,586\n",
            "Non-trainable params: 960\n",
            "_________________________________________________________________\n"
          ],
          "name": "stdout"
        }
      ]
    },
    {
      "cell_type": "code",
      "metadata": {
        "id": "lEqA-n2JWp-x",
        "colab_type": "code",
        "colab": {
          "base_uri": "https://localhost:8080/",
          "height": 36
        },
        "outputId": "55b07432-38b7-4b8d-e396-05b839dd1829"
      },
      "source": [
        "y_train.shape"
      ],
      "execution_count": 194,
      "outputs": [
        {
          "output_type": "execute_result",
          "data": {
            "text/plain": [
              "(600, 10)"
            ]
          },
          "metadata": {
            "tags": []
          },
          "execution_count": 194
        }
      ]
    },
    {
      "cell_type": "code",
      "metadata": {
        "id": "WK46LLIMKD6I",
        "colab_type": "code",
        "colab": {
          "base_uri": "https://localhost:8080/",
          "height": 1000
        },
        "outputId": "15c341fe-7156-4ff4-cc7b-335e7269758c"
      },
      "source": [
        "import tensorflow\n",
        "h = model.fit(X_train, y_train, epochs=100,\n",
        "          validation_data=(X_test,y_test),\n",
        "          callbacks=[tensorflow.keras.callbacks.EarlyStopping(monitor='val_accuracy', patience=90),\n",
        "                     tensorflow.keras.callbacks.ModelCheckpoint('/content/sample_data/modelmusic_{val_accuracy:.4f}.h5')]\n",
        ")"
      ],
      "execution_count": 233,
      "outputs": [
        {
          "output_type": "stream",
          "text": [
            "Epoch 1/100\n",
            "19/19 [==============================] - 1s 37ms/step - loss: 5.6653 - accuracy: 0.2050 - val_loss: 2.3862 - val_accuracy: 0.0600\n",
            "Epoch 2/100\n",
            "19/19 [==============================] - 0s 23ms/step - loss: 2.8209 - accuracy: 0.2767 - val_loss: 2.7895 - val_accuracy: 0.0600\n",
            "Epoch 3/100\n",
            "19/19 [==============================] - 1s 31ms/step - loss: 2.2566 - accuracy: 0.3300 - val_loss: 3.5913 - val_accuracy: 0.0600\n",
            "Epoch 4/100\n",
            "19/19 [==============================] - 1s 31ms/step - loss: 2.0562 - accuracy: 0.3267 - val_loss: 4.4709 - val_accuracy: 0.0600\n",
            "Epoch 5/100\n",
            "19/19 [==============================] - 1s 29ms/step - loss: 1.9063 - accuracy: 0.4200 - val_loss: 5.3132 - val_accuracy: 0.0600\n",
            "Epoch 6/100\n",
            "19/19 [==============================] - 0s 24ms/step - loss: 1.7701 - accuracy: 0.4333 - val_loss: 6.7660 - val_accuracy: 0.1267\n",
            "Epoch 7/100\n",
            "19/19 [==============================] - 0s 24ms/step - loss: 1.7180 - accuracy: 0.4583 - val_loss: 6.8535 - val_accuracy: 0.1267\n",
            "Epoch 8/100\n",
            "19/19 [==============================] - 0s 24ms/step - loss: 1.7243 - accuracy: 0.4267 - val_loss: 7.0510 - val_accuracy: 0.0600\n",
            "Epoch 9/100\n",
            "19/19 [==============================] - 0s 25ms/step - loss: 1.4731 - accuracy: 0.5450 - val_loss: 7.1860 - val_accuracy: 0.1267\n",
            "Epoch 10/100\n",
            "19/19 [==============================] - 0s 25ms/step - loss: 1.4619 - accuracy: 0.5150 - val_loss: 6.9846 - val_accuracy: 0.2267\n",
            "Epoch 11/100\n",
            "19/19 [==============================] - 0s 24ms/step - loss: 1.5539 - accuracy: 0.5017 - val_loss: 8.0730 - val_accuracy: 0.2067\n",
            "Epoch 12/100\n",
            "19/19 [==============================] - 0s 23ms/step - loss: 1.2940 - accuracy: 0.5900 - val_loss: 10.1828 - val_accuracy: 0.1667\n",
            "Epoch 13/100\n",
            "19/19 [==============================] - 0s 25ms/step - loss: 1.4091 - accuracy: 0.5667 - val_loss: 10.4816 - val_accuracy: 0.1000\n",
            "Epoch 14/100\n",
            "19/19 [==============================] - 0s 24ms/step - loss: 1.3682 - accuracy: 0.5650 - val_loss: 9.1652 - val_accuracy: 0.1133\n",
            "Epoch 15/100\n",
            "19/19 [==============================] - 1s 27ms/step - loss: 1.1175 - accuracy: 0.6350 - val_loss: 8.5691 - val_accuracy: 0.1400\n",
            "Epoch 16/100\n",
            "19/19 [==============================] - 1s 26ms/step - loss: 1.1772 - accuracy: 0.6383 - val_loss: 8.2678 - val_accuracy: 0.1600\n",
            "Epoch 17/100\n",
            "19/19 [==============================] - 0s 25ms/step - loss: 1.0761 - accuracy: 0.6283 - val_loss: 8.3929 - val_accuracy: 0.1667\n",
            "Epoch 18/100\n",
            "19/19 [==============================] - 0s 23ms/step - loss: 1.0869 - accuracy: 0.6233 - val_loss: 7.5250 - val_accuracy: 0.1800\n",
            "Epoch 19/100\n",
            "19/19 [==============================] - 0s 24ms/step - loss: 1.0561 - accuracy: 0.6733 - val_loss: 7.1884 - val_accuracy: 0.1667\n",
            "Epoch 20/100\n",
            "19/19 [==============================] - 0s 23ms/step - loss: 0.9711 - accuracy: 0.6750 - val_loss: 6.7648 - val_accuracy: 0.1533\n",
            "Epoch 21/100\n",
            "19/19 [==============================] - 0s 25ms/step - loss: 0.8163 - accuracy: 0.7167 - val_loss: 6.8675 - val_accuracy: 0.2067\n",
            "Epoch 22/100\n",
            "19/19 [==============================] - 0s 24ms/step - loss: 0.8493 - accuracy: 0.7083 - val_loss: 10.8657 - val_accuracy: 0.1600\n",
            "Epoch 23/100\n",
            "19/19 [==============================] - 0s 24ms/step - loss: 0.8702 - accuracy: 0.7183 - val_loss: 6.2575 - val_accuracy: 0.1400\n",
            "Epoch 24/100\n",
            "19/19 [==============================] - 0s 24ms/step - loss: 0.6971 - accuracy: 0.7567 - val_loss: 7.1795 - val_accuracy: 0.2200\n",
            "Epoch 25/100\n",
            "19/19 [==============================] - 0s 24ms/step - loss: 0.7493 - accuracy: 0.7567 - val_loss: 6.6826 - val_accuracy: 0.2133\n",
            "Epoch 26/100\n",
            "19/19 [==============================] - 0s 26ms/step - loss: 0.6542 - accuracy: 0.7867 - val_loss: 5.9870 - val_accuracy: 0.2333\n",
            "Epoch 27/100\n",
            "19/19 [==============================] - 0s 25ms/step - loss: 0.6578 - accuracy: 0.7617 - val_loss: 6.6222 - val_accuracy: 0.2800\n",
            "Epoch 28/100\n",
            "19/19 [==============================] - 0s 25ms/step - loss: 0.6606 - accuracy: 0.7900 - val_loss: 5.8039 - val_accuracy: 0.2733\n",
            "Epoch 29/100\n",
            "19/19 [==============================] - 0s 25ms/step - loss: 0.5097 - accuracy: 0.8200 - val_loss: 5.4616 - val_accuracy: 0.3000\n",
            "Epoch 30/100\n",
            "19/19 [==============================] - 0s 24ms/step - loss: 0.4671 - accuracy: 0.8467 - val_loss: 5.1856 - val_accuracy: 0.3267\n",
            "Epoch 31/100\n",
            "19/19 [==============================] - 0s 25ms/step - loss: 0.5693 - accuracy: 0.8133 - val_loss: 5.4420 - val_accuracy: 0.3200\n",
            "Epoch 32/100\n",
            "19/19 [==============================] - 0s 25ms/step - loss: 0.4771 - accuracy: 0.8617 - val_loss: 8.0368 - val_accuracy: 0.2133\n",
            "Epoch 33/100\n",
            "19/19 [==============================] - 0s 24ms/step - loss: 0.5095 - accuracy: 0.8450 - val_loss: 3.3958 - val_accuracy: 0.4467\n",
            "Epoch 34/100\n",
            "19/19 [==============================] - 0s 24ms/step - loss: 0.3674 - accuracy: 0.8850 - val_loss: 3.3364 - val_accuracy: 0.4400\n",
            "Epoch 35/100\n",
            "19/19 [==============================] - 0s 25ms/step - loss: 0.4509 - accuracy: 0.8567 - val_loss: 3.5351 - val_accuracy: 0.4467\n",
            "Epoch 36/100\n",
            "19/19 [==============================] - 0s 24ms/step - loss: 0.4141 - accuracy: 0.8800 - val_loss: 2.6924 - val_accuracy: 0.5333\n",
            "Epoch 37/100\n",
            "19/19 [==============================] - 1s 38ms/step - loss: 0.3500 - accuracy: 0.8783 - val_loss: 2.9047 - val_accuracy: 0.5333\n",
            "Epoch 38/100\n",
            "19/19 [==============================] - 0s 26ms/step - loss: 0.2626 - accuracy: 0.9233 - val_loss: 2.7303 - val_accuracy: 0.4867\n",
            "Epoch 39/100\n",
            "19/19 [==============================] - 0s 25ms/step - loss: 0.3520 - accuracy: 0.9033 - val_loss: 3.0883 - val_accuracy: 0.4267\n",
            "Epoch 40/100\n",
            "19/19 [==============================] - 0s 24ms/step - loss: 0.2795 - accuracy: 0.9133 - val_loss: 2.9535 - val_accuracy: 0.4733\n",
            "Epoch 41/100\n",
            "19/19 [==============================] - 0s 24ms/step - loss: 0.2795 - accuracy: 0.9183 - val_loss: 2.5802 - val_accuracy: 0.5667\n",
            "Epoch 42/100\n",
            "19/19 [==============================] - 0s 23ms/step - loss: 0.3326 - accuracy: 0.9050 - val_loss: 1.7270 - val_accuracy: 0.6133\n",
            "Epoch 43/100\n",
            "19/19 [==============================] - 0s 25ms/step - loss: 0.3229 - accuracy: 0.8967 - val_loss: 1.7404 - val_accuracy: 0.6000\n",
            "Epoch 44/100\n",
            "19/19 [==============================] - 0s 25ms/step - loss: 0.2328 - accuracy: 0.9217 - val_loss: 2.7897 - val_accuracy: 0.5333\n",
            "Epoch 45/100\n",
            "19/19 [==============================] - 0s 24ms/step - loss: 0.2385 - accuracy: 0.9133 - val_loss: 3.5404 - val_accuracy: 0.5133\n",
            "Epoch 46/100\n",
            "19/19 [==============================] - 0s 24ms/step - loss: 0.3421 - accuracy: 0.9000 - val_loss: 2.8154 - val_accuracy: 0.4867\n",
            "Epoch 47/100\n",
            "19/19 [==============================] - 0s 24ms/step - loss: 0.1951 - accuracy: 0.9350 - val_loss: 2.8888 - val_accuracy: 0.5200\n",
            "Epoch 48/100\n",
            "19/19 [==============================] - 0s 26ms/step - loss: 0.2257 - accuracy: 0.9300 - val_loss: 2.1262 - val_accuracy: 0.5933\n",
            "Epoch 49/100\n",
            "19/19 [==============================] - 0s 26ms/step - loss: 0.1906 - accuracy: 0.9383 - val_loss: 2.7608 - val_accuracy: 0.5267\n",
            "Epoch 50/100\n",
            "19/19 [==============================] - 1s 28ms/step - loss: 0.2933 - accuracy: 0.9200 - val_loss: 2.0327 - val_accuracy: 0.5933\n",
            "Epoch 51/100\n",
            "19/19 [==============================] - 0s 24ms/step - loss: 0.2266 - accuracy: 0.9450 - val_loss: 2.1577 - val_accuracy: 0.5867\n",
            "Epoch 52/100\n",
            "19/19 [==============================] - 0s 25ms/step - loss: 0.2006 - accuracy: 0.9400 - val_loss: 1.8477 - val_accuracy: 0.6467\n",
            "Epoch 53/100\n",
            "19/19 [==============================] - 0s 25ms/step - loss: 0.2156 - accuracy: 0.9500 - val_loss: 2.1195 - val_accuracy: 0.5533\n",
            "Epoch 54/100\n",
            "19/19 [==============================] - 0s 24ms/step - loss: 0.1205 - accuracy: 0.9567 - val_loss: 2.4615 - val_accuracy: 0.6200\n",
            "Epoch 55/100\n",
            "19/19 [==============================] - 0s 24ms/step - loss: 0.2132 - accuracy: 0.9300 - val_loss: 3.0264 - val_accuracy: 0.5600\n",
            "Epoch 56/100\n",
            "19/19 [==============================] - 0s 25ms/step - loss: 0.1984 - accuracy: 0.9550 - val_loss: 2.9865 - val_accuracy: 0.5667\n",
            "Epoch 57/100\n",
            "19/19 [==============================] - 0s 24ms/step - loss: 0.1481 - accuracy: 0.9683 - val_loss: 2.3042 - val_accuracy: 0.6333\n",
            "Epoch 58/100\n",
            "19/19 [==============================] - 1s 56ms/step - loss: 0.1193 - accuracy: 0.9683 - val_loss: 2.6421 - val_accuracy: 0.6333\n",
            "Epoch 59/100\n",
            "19/19 [==============================] - 0s 25ms/step - loss: 0.1911 - accuracy: 0.9450 - val_loss: 2.0028 - val_accuracy: 0.6067\n",
            "Epoch 60/100\n",
            "19/19 [==============================] - 0s 24ms/step - loss: 0.1304 - accuracy: 0.9600 - val_loss: 2.3264 - val_accuracy: 0.5933\n",
            "Epoch 61/100\n",
            "19/19 [==============================] - 0s 25ms/step - loss: 0.1073 - accuracy: 0.9683 - val_loss: 2.8491 - val_accuracy: 0.5400\n",
            "Epoch 62/100\n",
            "19/19 [==============================] - 0s 24ms/step - loss: 0.1490 - accuracy: 0.9600 - val_loss: 2.2954 - val_accuracy: 0.6133\n",
            "Epoch 63/100\n",
            "19/19 [==============================] - 0s 24ms/step - loss: 0.1257 - accuracy: 0.9633 - val_loss: 1.7861 - val_accuracy: 0.6667\n",
            "Epoch 64/100\n",
            "19/19 [==============================] - 0s 24ms/step - loss: 0.1421 - accuracy: 0.9683 - val_loss: 2.2698 - val_accuracy: 0.6133\n",
            "Epoch 65/100\n",
            "19/19 [==============================] - 0s 24ms/step - loss: 0.1281 - accuracy: 0.9583 - val_loss: 3.9758 - val_accuracy: 0.4800\n",
            "Epoch 66/100\n",
            "19/19 [==============================] - 0s 26ms/step - loss: 0.1254 - accuracy: 0.9600 - val_loss: 5.2341 - val_accuracy: 0.4400\n",
            "Epoch 67/100\n",
            "19/19 [==============================] - 1s 27ms/step - loss: 0.1303 - accuracy: 0.9583 - val_loss: 3.5145 - val_accuracy: 0.5267\n",
            "Epoch 68/100\n",
            "19/19 [==============================] - 0s 25ms/step - loss: 0.0993 - accuracy: 0.9717 - val_loss: 2.3723 - val_accuracy: 0.6267\n",
            "Epoch 69/100\n",
            "19/19 [==============================] - 0s 24ms/step - loss: 0.1056 - accuracy: 0.9617 - val_loss: 2.0242 - val_accuracy: 0.6200\n",
            "Epoch 70/100\n",
            "19/19 [==============================] - 0s 24ms/step - loss: 0.1250 - accuracy: 0.9550 - val_loss: 2.6483 - val_accuracy: 0.6000\n",
            "Epoch 71/100\n",
            "19/19 [==============================] - 0s 26ms/step - loss: 0.1212 - accuracy: 0.9683 - val_loss: 2.2617 - val_accuracy: 0.6733\n",
            "Epoch 72/100\n",
            "19/19 [==============================] - 0s 25ms/step - loss: 0.0813 - accuracy: 0.9700 - val_loss: 2.5020 - val_accuracy: 0.5800\n",
            "Epoch 73/100\n",
            "19/19 [==============================] - 0s 25ms/step - loss: 0.1771 - accuracy: 0.9583 - val_loss: 2.0368 - val_accuracy: 0.6600\n",
            "Epoch 74/100\n",
            "19/19 [==============================] - 0s 24ms/step - loss: 0.1300 - accuracy: 0.9633 - val_loss: 3.1580 - val_accuracy: 0.6333\n",
            "Epoch 75/100\n",
            "19/19 [==============================] - 0s 24ms/step - loss: 0.1760 - accuracy: 0.9600 - val_loss: 2.7004 - val_accuracy: 0.6400\n",
            "Epoch 76/100\n",
            "19/19 [==============================] - 0s 24ms/step - loss: 0.1011 - accuracy: 0.9717 - val_loss: 3.4804 - val_accuracy: 0.5667\n",
            "Epoch 77/100\n",
            "19/19 [==============================] - 0s 25ms/step - loss: 0.1061 - accuracy: 0.9683 - val_loss: 3.0597 - val_accuracy: 0.6000\n",
            "Epoch 78/100\n",
            "19/19 [==============================] - 1s 30ms/step - loss: 0.0844 - accuracy: 0.9700 - val_loss: 2.8286 - val_accuracy: 0.6000\n",
            "Epoch 79/100\n",
            "19/19 [==============================] - 0s 24ms/step - loss: 0.1298 - accuracy: 0.9667 - val_loss: 3.0928 - val_accuracy: 0.5933\n",
            "Epoch 80/100\n",
            "19/19 [==============================] - 0s 24ms/step - loss: 0.1432 - accuracy: 0.9633 - val_loss: 5.4136 - val_accuracy: 0.5200\n",
            "Epoch 81/100\n",
            "19/19 [==============================] - 0s 24ms/step - loss: 0.1051 - accuracy: 0.9633 - val_loss: 3.9606 - val_accuracy: 0.5267\n",
            "Epoch 82/100\n",
            "19/19 [==============================] - 0s 24ms/step - loss: 0.0676 - accuracy: 0.9800 - val_loss: 3.1295 - val_accuracy: 0.6067\n",
            "Epoch 83/100\n",
            "19/19 [==============================] - 0s 25ms/step - loss: 0.1001 - accuracy: 0.9717 - val_loss: 2.9016 - val_accuracy: 0.6067\n",
            "Epoch 84/100\n",
            "19/19 [==============================] - 0s 24ms/step - loss: 0.0933 - accuracy: 0.9883 - val_loss: 2.8401 - val_accuracy: 0.6133\n",
            "Epoch 85/100\n",
            "19/19 [==============================] - 0s 24ms/step - loss: 0.1165 - accuracy: 0.9733 - val_loss: 2.8723 - val_accuracy: 0.6000\n",
            "Epoch 86/100\n",
            "19/19 [==============================] - 1s 43ms/step - loss: 0.0835 - accuracy: 0.9783 - val_loss: 3.7430 - val_accuracy: 0.6000\n",
            "Epoch 87/100\n",
            "19/19 [==============================] - 0s 25ms/step - loss: 0.0715 - accuracy: 0.9850 - val_loss: 5.4302 - val_accuracy: 0.5267\n",
            "Epoch 88/100\n",
            "19/19 [==============================] - 0s 25ms/step - loss: 0.0857 - accuracy: 0.9783 - val_loss: 4.2336 - val_accuracy: 0.5533\n",
            "Epoch 89/100\n",
            "19/19 [==============================] - 0s 26ms/step - loss: 0.0566 - accuracy: 0.9800 - val_loss: 5.7891 - val_accuracy: 0.5867\n",
            "Epoch 90/100\n",
            "19/19 [==============================] - 0s 25ms/step - loss: 0.1182 - accuracy: 0.9717 - val_loss: 2.9559 - val_accuracy: 0.6867\n",
            "Epoch 91/100\n",
            "19/19 [==============================] - 0s 24ms/step - loss: 0.0817 - accuracy: 0.9750 - val_loss: 3.2321 - val_accuracy: 0.6400\n",
            "Epoch 92/100\n",
            "19/19 [==============================] - 0s 24ms/step - loss: 0.1166 - accuracy: 0.9750 - val_loss: 2.9486 - val_accuracy: 0.5933\n",
            "Epoch 93/100\n",
            "19/19 [==============================] - 0s 25ms/step - loss: 0.0784 - accuracy: 0.9800 - val_loss: 2.7907 - val_accuracy: 0.6400\n",
            "Epoch 94/100\n",
            "19/19 [==============================] - 0s 24ms/step - loss: 0.0906 - accuracy: 0.9750 - val_loss: 4.8286 - val_accuracy: 0.5467\n",
            "Epoch 95/100\n",
            "19/19 [==============================] - 0s 25ms/step - loss: 0.0931 - accuracy: 0.9733 - val_loss: 2.7288 - val_accuracy: 0.6467\n",
            "Epoch 96/100\n",
            "19/19 [==============================] - 0s 26ms/step - loss: 0.1014 - accuracy: 0.9750 - val_loss: 3.6744 - val_accuracy: 0.5667\n",
            "Epoch 97/100\n",
            "19/19 [==============================] - 1s 27ms/step - loss: 0.0952 - accuracy: 0.9767 - val_loss: 2.1933 - val_accuracy: 0.6667\n",
            "Epoch 98/100\n",
            "19/19 [==============================] - 0s 24ms/step - loss: 0.0262 - accuracy: 0.9900 - val_loss: 3.0043 - val_accuracy: 0.6467\n",
            "Epoch 99/100\n",
            "19/19 [==============================] - 0s 25ms/step - loss: 0.0491 - accuracy: 0.9817 - val_loss: 3.2120 - val_accuracy: 0.5800\n",
            "Epoch 100/100\n",
            "19/19 [==============================] - 0s 24ms/step - loss: 0.0939 - accuracy: 0.9717 - val_loss: 2.5355 - val_accuracy: 0.6467\n"
          ],
          "name": "stdout"
        }
      ]
    },
    {
      "cell_type": "code",
      "metadata": {
        "id": "_0tPCT0jXFJ5",
        "colab_type": "code",
        "colab": {
          "base_uri": "https://localhost:8080/",
          "height": 265
        },
        "outputId": "afb4115f-68b7-4201-cafa-9dc0020fa064"
      },
      "source": [
        "losses = h.history['loss']\n",
        "accs = h.history['accuracy']\n",
        "val_losses = h.history['val_loss']\n",
        "val_accs = h.history['val_accuracy']\n",
        "epochs = len(losses)\n",
        "\n",
        "plt.figure(figsize=(12, 4))\n",
        "for i, metrics in enumerate(zip([losses, accs], [val_losses, val_accs], ['Loss', 'Accuracy'])):\n",
        "    plt.subplot(1, 2, i + 1)\n",
        "    plt.plot(range(epochs), metrics[0], label='Training {}'.format(metrics[2]))\n",
        "    plt.plot(range(epochs), metrics[1], label='Validation {}'.format(metrics[2]))\n",
        "    plt.legend()\n",
        "plt.show()"
      ],
      "execution_count": 256,
      "outputs": [
        {
          "output_type": "display_data",
          "data": {
            "image/png": "[encoded data removed]",
            "text/plain": [
              "<Figure size 864x288 with 2 Axes>"
            ]
          },
          "metadata": {
            "tags": [],
            "needs_background": "light"
          }
        }
      ]
    },
    {
      "cell_type": "code",
      "metadata": {
        "id": "PG5YcxBonh4q",
        "colab_type": "code",
        "colab": {}
      },
      "source": [
        "import tensorflow as tf\n",
        "model = tf.keras.models.load_model('/content/sample_data/modelmusic_0.6867.h5')"
      ],
      "execution_count": 249,
      "outputs": []
    },
    {
      "cell_type": "code",
      "metadata": {
        "id": "X32bEafW3wov",
        "colab_type": "code",
        "colab": {}
      },
      "source": [
        "prediction = model.predict_classes(X_test)"
      ],
      "execution_count": 250,
      "outputs": []
    },
    {
      "cell_type": "code",
      "metadata": {
        "id": "CfafKIvRfD-6",
        "colab_type": "code",
        "colab": {}
      },
      "source": [
        "predictions = list(prediction)"
      ],
      "execution_count": 251,
      "outputs": []
    },
    {
      "cell_type": "code",
      "metadata": {
        "id": "xlI8CqfHon8t",
        "colab_type": "code",
        "colab": {
          "base_uri": "https://localhost:8080/",
          "height": 148
        },
        "outputId": "a3b6b932-84c7-4f07-ad00-af0e5e63157b"
      },
      "source": [
        "index = tf.math.argmax(y_test, axis=1)\n",
        "c = tf.keras.backend.eval(index)\n",
        "c"
      ],
      "execution_count": 247,
      "outputs": [
        {
          "output_type": "execute_result",
          "data": {
            "text/plain": [
              "array([6, 4, 1, 3, 3, 9, 4, 2, 7, 9, 1, 4, 3, 9, 2, 3, 0, 3, 4, 7, 6, 6,\n",
              "       5, 4, 0, 9, 3, 4, 2, 2, 4, 6, 6, 4, 4, 1, 2, 5, 1, 5, 1, 9, 0, 1,\n",
              "       9, 7, 7, 6, 5, 5, 0, 6, 4, 4, 6, 1, 7, 1, 6, 0, 3, 2, 9, 9, 3, 3,\n",
              "       3, 0, 5, 8, 5, 5, 3, 8, 9, 5, 6, 0, 2, 4, 3, 0, 8, 7, 0, 4, 9, 6,\n",
              "       8, 0, 7, 0, 8, 9, 1, 4, 6, 3, 1, 2, 1, 9, 0, 9, 2, 0, 8, 9, 5, 2,\n",
              "       8, 6, 2, 7, 5, 8, 8, 4, 9, 1, 5, 1, 8, 4, 8, 2, 0, 7, 3, 8, 3, 0,\n",
              "       2, 4, 6, 4, 2, 4, 0, 9, 5, 2, 8, 5, 1, 6, 1, 5, 9, 0])"
            ]
          },
          "metadata": {
            "tags": []
          },
          "execution_count": 247
        }
      ]
    },
    {
      "cell_type": "code",
      "metadata": {
        "id": "8INhoDHQtx23",
        "colab_type": "code",
        "colab": {
          "base_uri": "https://localhost:8080/",
          "height": 390
        },
        "outputId": "2c48da70-2eab-4830-b8af-6b7db0598dba"
      },
      "source": [
        "#Number of per-labels in y_test and predicitions\n",
        "d=list(c)\n",
        "for i in range(10):\n",
        "  print('Count of',[i], 'in test data is:','     ',d.count(i))\n",
        "  print('Count of',[i], 'in prediction data is:',predictions.count(i))"
      ],
      "execution_count": 264,
      "outputs": [
        {
          "output_type": "stream",
          "text": [
            "Count of [0] in test data is:       17\n",
            "Count of [0] in prediction data is: 10\n",
            "Count of [1] in test data is:       15\n",
            "Count of [1] in prediction data is: 15\n",
            "Count of [2] in test data is:       15\n",
            "Count of [2] in prediction data is: 20\n",
            "Count of [3] in test data is:       15\n",
            "Count of [3] in prediction data is: 12\n",
            "Count of [4] in test data is:       19\n",
            "Count of [4] in prediction data is: 20\n",
            "Count of [5] in test data is:       15\n",
            "Count of [5] in prediction data is: 12\n",
            "Count of [6] in test data is:       15\n",
            "Count of [6] in prediction data is: 17\n",
            "Count of [7] in test data is:       9\n",
            "Count of [7] in prediction data is: 13\n",
            "Count of [8] in test data is:       13\n",
            "Count of [8] in prediction data is: 20\n",
            "Count of [9] in test data is:       17\n",
            "Count of [9] in prediction data is: 11\n"
          ],
          "name": "stdout"
        }
      ]
    },
    {
      "cell_type": "code",
      "metadata": {
        "id": "0h22pwHJtevQ",
        "colab_type": "code",
        "colab": {
          "base_uri": "https://localhost:8080/",
          "height": 540
        },
        "outputId": "16c252e8-5bfb-40a8-875d-b305b15dde74"
      },
      "source": [
        "from sklearn.metrics import accuracy_score, classification_report, confusion_matrix\n",
        "\n",
        "print(confusion_matrix(c, prediction))\n",
        "print(classification_report(c, prediction))\n",
        "print(accuracy_score(c, prediction))"
      ],
      "execution_count": 253,
      "outputs": [
        {
          "output_type": "stream",
          "text": [
            "[[10  0  0  0  2  0  1  0  3  1]\n",
            " [ 0 15  0  0  0  0  0  0  0  0]\n",
            " [ 0  0 11  1  0  0  0  0  2  1]\n",
            " [ 0  0  1  7  1  0  0  4  1  1]\n",
            " [ 0  0  2  2 12  0  1  0  1  1]\n",
            " [ 0  0  3  0  0 12  0  0  0  0]\n",
            " [ 0  0  0  0  0  0 15  0  0  0]\n",
            " [ 0  0  1  0  2  0  0  6  0  0]\n",
            " [ 0  0  0  1  0  0  0  2  9  1]\n",
            " [ 0  0  2  1  3  0  0  1  4  6]]\n",
            "              precision    recall  f1-score   support\n",
            "\n",
            "           0       1.00      0.59      0.74        17\n",
            "           1       1.00      1.00      1.00        15\n",
            "           2       0.55      0.73      0.63        15\n",
            "           3       0.58      0.47      0.52        15\n",
            "           4       0.60      0.63      0.62        19\n",
            "           5       1.00      0.80      0.89        15\n",
            "           6       0.88      1.00      0.94        15\n",
            "           7       0.46      0.67      0.55         9\n",
            "           8       0.45      0.69      0.55        13\n",
            "           9       0.55      0.35      0.43        17\n",
            "\n",
            "    accuracy                           0.69       150\n",
            "   macro avg       0.71      0.69      0.68       150\n",
            "weighted avg       0.72      0.69      0.69       150\n",
            "\n",
            "0.6866666666666666\n"
          ],
          "name": "stdout"
        }
      ]
    }
  ]
}